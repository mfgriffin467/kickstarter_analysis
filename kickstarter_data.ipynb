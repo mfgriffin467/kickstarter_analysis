{
  "nbformat": 4,
  "nbformat_minor": 0,
  "metadata": {
    "kernelspec": {
      "display_name": "Python 3",
      "language": "python",
      "name": "python3"
    },
    "language_info": {
      "codemirror_mode": {
        "name": "ipython",
        "version": 3
      },
      "file_extension": ".py",
      "mimetype": "text/x-python",
      "name": "python",
      "nbconvert_exporter": "python",
      "pygments_lexer": "ipython3",
      "version": "3.7.4"
    },
    "colab": {
      "name": "kickstarter_data.ipynb",
      "provenance": [],
      "collapsed_sections": [],
      "machine_shape": "hm"
    }
  },
  "cells": [
    {
      "cell_type": "markdown",
      "metadata": {
        "id": "dP0f-M_4MqXM",
        "colab_type": "text"
      },
      "source": [
        "# Kickstarter - data engineering & analysis"
      ]
    },
    {
      "cell_type": "markdown",
      "metadata": {
        "id": "V_0rLXjHMqXS",
        "colab_type": "text"
      },
      "source": [
        "- Write scrapy tool for more text (strengths & weaknesses) - need to deal with Javascript through json / selenium\n",
        "- Consider LDA"
      ]
    },
    {
      "cell_type": "markdown",
      "metadata": {
        "id": "aei9pwV5MqXX",
        "colab_type": "text"
      },
      "source": [
        "### Libraries"
      ]
    },
    {
      "cell_type": "code",
      "metadata": {
        "id": "b7KRgIDaOKUT",
        "colab_type": "code",
        "colab": {}
      },
      "source": [
        "from fastai import *\n",
        "from fastai.text import *"
      ],
      "execution_count": 0,
      "outputs": []
    },
    {
      "cell_type": "code",
      "metadata": {
        "id": "wxep6wHlM2gj",
        "colab_type": "code",
        "outputId": "f0a9952d-fc51-446a-c40c-7a28b785090c",
        "colab": {
          "base_uri": "https://localhost:8080/",
          "height": 139
        }
      },
      "source": [
        "from google.colab import drive\n",
        "drive.mount('/content/gdrive', force_remount=True)\n",
        "#path = \"/content/gdrive/My Drive/Personal_projects/Kickstarter/\"\n",
        "\n",
        "root_dir = \"/content/gdrive/My Drive/\"\n",
        "base_dir = root_dir + 'Personal_projects/Kickstarter/'\n",
        "dest= Path(base_dir + \"models/\")\n",
        "\n",
        "try:\n",
        "  dest.mkdir(parents=True, exist_ok=False)\n",
        "except FileExistsError:\n",
        "  print ('File Already Exists')"
      ],
      "execution_count": 3,
      "outputs": [
        {
          "output_type": "stream",
          "text": [
            "Go to this URL in a browser: https://accounts.google.com/o/oauth2/auth?client_id=947318989803-6bn6qk8qdgf4n4g3pfee6491hc0brc4i.apps.googleusercontent.com&redirect_uri=urn%3aietf%3awg%3aoauth%3a2.0%3aoob&response_type=code&scope=email%20https%3a%2f%2fwww.googleapis.com%2fauth%2fdocs.test%20https%3a%2f%2fwww.googleapis.com%2fauth%2fdrive%20https%3a%2f%2fwww.googleapis.com%2fauth%2fdrive.photos.readonly%20https%3a%2f%2fwww.googleapis.com%2fauth%2fpeopleapi.readonly\n",
            "\n",
            "Enter your authorization code:\n",
            "··········\n",
            "Mounted at /content/gdrive\n",
            "File Already Exists\n"
          ],
          "name": "stdout"
        }
      ]
    },
    {
      "cell_type": "code",
      "metadata": {
        "id": "HIQZDtnTOUDZ",
        "colab_type": "code",
        "outputId": "2897f8de-ee66-4ef9-d5f5-0d7f11ac1a6a",
        "colab": {
          "base_uri": "https://localhost:8080/",
          "height": 496
        }
      },
      "source": [
        "!pip install langdetect\n",
        "!pip install names_dataset\n",
        "!pip install namesparser"
      ],
      "execution_count": 4,
      "outputs": [
        {
          "output_type": "stream",
          "text": [
            "Collecting langdetect\n",
            "\u001b[?25l  Downloading https://files.pythonhosted.org/packages/59/59/4bc44158a767a6d66de18c4136c8aa90491d56cc951c10b74dd1e13213c9/langdetect-1.0.7.zip (998kB)\n",
            "\r\u001b[K     |▎                               | 10kB 19.3MB/s eta 0:00:01\r\u001b[K     |▋                               | 20kB 1.8MB/s eta 0:00:01\r\u001b[K     |█                               | 30kB 2.6MB/s eta 0:00:01\r\u001b[K     |█▎                              | 40kB 1.8MB/s eta 0:00:01\r\u001b[K     |█▋                              | 51kB 2.2MB/s eta 0:00:01\r\u001b[K     |██                              | 61kB 2.6MB/s eta 0:00:01\r\u001b[K     |██▎                             | 71kB 3.0MB/s eta 0:00:01\r\u001b[K     |██▋                             | 81kB 3.4MB/s eta 0:00:01\r\u001b[K     |███                             | 92kB 3.8MB/s eta 0:00:01\r\u001b[K     |███▎                            | 102kB 2.9MB/s eta 0:00:01\r\u001b[K     |███▋                            | 112kB 2.9MB/s eta 0:00:01\r\u001b[K     |████                            | 122kB 2.9MB/s eta 0:00:01\r\u001b[K     |████▎                           | 133kB 2.9MB/s eta 0:00:01\r\u001b[K     |████▋                           | 143kB 2.9MB/s eta 0:00:01\r\u001b[K     |█████                           | 153kB 2.9MB/s eta 0:00:01\r\u001b[K     |█████▎                          | 163kB 2.9MB/s eta 0:00:01\r\u001b[K     |█████▋                          | 174kB 2.9MB/s eta 0:00:01\r\u001b[K     |██████                          | 184kB 2.9MB/s eta 0:00:01\r\u001b[K     |██████▎                         | 194kB 2.9MB/s eta 0:00:01\r\u001b[K     |██████▋                         | 204kB 2.9MB/s eta 0:00:01\r\u001b[K     |███████                         | 215kB 2.9MB/s eta 0:00:01\r\u001b[K     |███████▎                        | 225kB 2.9MB/s eta 0:00:01\r\u001b[K     |███████▌                        | 235kB 2.9MB/s eta 0:00:01\r\u001b[K     |███████▉                        | 245kB 2.9MB/s eta 0:00:01\r\u001b[K     |████████▏                       | 256kB 2.9MB/s eta 0:00:01\r\u001b[K     |████████▌                       | 266kB 2.9MB/s eta 0:00:01\r\u001b[K     |████████▉                       | 276kB 2.9MB/s eta 0:00:01\r\u001b[K     |█████████▏                      | 286kB 2.9MB/s eta 0:00:01\r\u001b[K     |█████████▌                      | 296kB 2.9MB/s eta 0:00:01\r\u001b[K     |█████████▉                      | 307kB 2.9MB/s eta 0:00:01\r\u001b[K     |██████████▏                     | 317kB 2.9MB/s eta 0:00:01\r\u001b[K     |██████████▌                     | 327kB 2.9MB/s eta 0:00:01\r\u001b[K     |██████████▉                     | 337kB 2.9MB/s eta 0:00:01\r\u001b[K     |███████████▏                    | 348kB 2.9MB/s eta 0:00:01\r\u001b[K     |███████████▌                    | 358kB 2.9MB/s eta 0:00:01\r\u001b[K     |███████████▉                    | 368kB 2.9MB/s eta 0:00:01\r\u001b[K     |████████████▏                   | 378kB 2.9MB/s eta 0:00:01\r\u001b[K     |████████████▌                   | 389kB 2.9MB/s eta 0:00:01\r\u001b[K     |████████████▉                   | 399kB 2.9MB/s eta 0:00:01\r\u001b[K     |█████████████▏                  | 409kB 2.9MB/s eta 0:00:01\r\u001b[K     |█████████████▌                  | 419kB 2.9MB/s eta 0:00:01\r\u001b[K     |█████████████▉                  | 430kB 2.9MB/s eta 0:00:01\r\u001b[K     |██████████████▏                 | 440kB 2.9MB/s eta 0:00:01\r\u001b[K     |██████████████▌                 | 450kB 2.9MB/s eta 0:00:01\r\u001b[K     |██████████████▊                 | 460kB 2.9MB/s eta 0:00:01\r\u001b[K     |███████████████                 | 471kB 2.9MB/s eta 0:00:01\r\u001b[K     |███████████████▍                | 481kB 2.9MB/s eta 0:00:01\r\u001b[K     |███████████████▊                | 491kB 2.9MB/s eta 0:00:01\r\u001b[K     |████████████████                | 501kB 2.9MB/s eta 0:00:01\r\u001b[K     |████████████████▍               | 512kB 2.9MB/s eta 0:00:01\r\u001b[K     |████████████████▊               | 522kB 2.9MB/s eta 0:00:01\r\u001b[K     |█████████████████               | 532kB 2.9MB/s eta 0:00:01\r\u001b[K     |█████████████████▍              | 542kB 2.9MB/s eta 0:00:01\r\u001b[K     |█████████████████▊              | 552kB 2.9MB/s eta 0:00:01\r\u001b[K     |██████████████████              | 563kB 2.9MB/s eta 0:00:01\r\u001b[K     |██████████████████▍             | 573kB 2.9MB/s eta 0:00:01\r\u001b[K     |██████████████████▊             | 583kB 2.9MB/s eta 0:00:01\r\u001b[K     |███████████████████             | 593kB 2.9MB/s eta 0:00:01\r\u001b[K     |███████████████████▍            | 604kB 2.9MB/s eta 0:00:01\r\u001b[K     |███████████████████▊            | 614kB 2.9MB/s eta 0:00:01\r\u001b[K     |████████████████████            | 624kB 2.9MB/s eta 0:00:01\r\u001b[K     |████████████████████▍           | 634kB 2.9MB/s eta 0:00:01\r\u001b[K     |████████████████████▊           | 645kB 2.9MB/s eta 0:00:01\r\u001b[K     |█████████████████████           | 655kB 2.9MB/s eta 0:00:01\r\u001b[K     |█████████████████████▍          | 665kB 2.9MB/s eta 0:00:01\r\u001b[K     |█████████████████████▊          | 675kB 2.9MB/s eta 0:00:01\r\u001b[K     |██████████████████████          | 686kB 2.9MB/s eta 0:00:01\r\u001b[K     |██████████████████████▎         | 696kB 2.9MB/s eta 0:00:01\r\u001b[K     |██████████████████████▋         | 706kB 2.9MB/s eta 0:00:01\r\u001b[K     |███████████████████████         | 716kB 2.9MB/s eta 0:00:01\r\u001b[K     |███████████████████████▎        | 727kB 2.9MB/s eta 0:00:01\r\u001b[K     |███████████████████████▋        | 737kB 2.9MB/s eta 0:00:01\r\u001b[K     |████████████████████████        | 747kB 2.9MB/s eta 0:00:01\r\u001b[K     |████████████████████████▎       | 757kB 2.9MB/s eta 0:00:01\r\u001b[K     |████████████████████████▋       | 768kB 2.9MB/s eta 0:00:01\r\u001b[K     |█████████████████████████       | 778kB 2.9MB/s eta 0:00:01\r\u001b[K     |█████████████████████████▎      | 788kB 2.9MB/s eta 0:00:01\r\u001b[K     |█████████████████████████▋      | 798kB 2.9MB/s eta 0:00:01\r\u001b[K     |██████████████████████████      | 808kB 2.9MB/s eta 0:00:01\r\u001b[K     |██████████████████████████▎     | 819kB 2.9MB/s eta 0:00:01\r\u001b[K     |██████████████████████████▋     | 829kB 2.9MB/s eta 0:00:01\r\u001b[K     |███████████████████████████     | 839kB 2.9MB/s eta 0:00:01\r\u001b[K     |███████████████████████████▎    | 849kB 2.9MB/s eta 0:00:01\r\u001b[K     |███████████████████████████▋    | 860kB 2.9MB/s eta 0:00:01\r\u001b[K     |████████████████████████████    | 870kB 2.9MB/s eta 0:00:01\r\u001b[K     |████████████████████████████▎   | 880kB 2.9MB/s eta 0:00:01\r\u001b[K     |████████████████████████████▋   | 890kB 2.9MB/s eta 0:00:01\r\u001b[K     |█████████████████████████████   | 901kB 2.9MB/s eta 0:00:01\r\u001b[K     |█████████████████████████████▏  | 911kB 2.9MB/s eta 0:00:01\r\u001b[K     |█████████████████████████████▌  | 921kB 2.9MB/s eta 0:00:01\r\u001b[K     |█████████████████████████████▉  | 931kB 2.9MB/s eta 0:00:01\r\u001b[K     |██████████████████████████████▏ | 942kB 2.9MB/s eta 0:00:01\r\u001b[K     |██████████████████████████████▌ | 952kB 2.9MB/s eta 0:00:01\r\u001b[K     |██████████████████████████████▉ | 962kB 2.9MB/s eta 0:00:01\r\u001b[K     |███████████████████████████████▏| 972kB 2.9MB/s eta 0:00:01\r\u001b[K     |███████████████████████████████▌| 983kB 2.9MB/s eta 0:00:01\r\u001b[K     |███████████████████████████████▉| 993kB 2.9MB/s eta 0:00:01\r\u001b[K     |████████████████████████████████| 1.0MB 2.9MB/s \n",
            "\u001b[?25hRequirement already satisfied: six in /usr/local/lib/python3.6/dist-packages (from langdetect) (1.12.0)\n",
            "Building wheels for collected packages: langdetect\n",
            "  Building wheel for langdetect (setup.py) ... \u001b[?25l\u001b[?25hdone\n",
            "  Created wheel for langdetect: filename=langdetect-1.0.7-cp36-none-any.whl size=993460 sha256=02f2054353dfadb3613152f71d00b6bc372a53cf221cfbb8e114e80febda3482\n",
            "  Stored in directory: /root/.cache/pip/wheels/ec/0c/a9/1647275e7ef5014e7b83ff30105180e332867d65e7617ddafe\n",
            "Successfully built langdetect\n",
            "Installing collected packages: langdetect\n",
            "Successfully installed langdetect-1.0.7\n",
            "Collecting names_dataset\n",
            "\u001b[?25l  Downloading https://files.pythonhosted.org/packages/d6/9f/353cdbee41d39050398ff68580b288f32a3eff749bbb652732d6d8b2c4d8/names_dataset-1.9.0-py2.py3-none-any.whl (1.4MB)\n",
            "\u001b[K     |████████████████████████████████| 1.4MB 2.9MB/s \n",
            "\u001b[?25hInstalling collected packages: names-dataset\n",
            "Successfully installed names-dataset-1.9.0\n",
            "Collecting namesparser\n",
            "  Downloading https://files.pythonhosted.org/packages/9c/77/1539e2df1c8105a0f2def099779793892c8d970a06c20b326a2627d286ab/namesparser-1.0.0.tar.gz\n",
            "Collecting nameparser\n",
            "  Downloading https://files.pythonhosted.org/packages/82/86/7b47a194dd7e68248322f3f7efe629779667edf4034e0ac8299b46f97906/nameparser-1.0.5-py2.py3-none-any.whl\n",
            "Building wheels for collected packages: namesparser\n",
            "  Building wheel for namesparser (setup.py) ... \u001b[?25l\u001b[?25hdone\n",
            "  Created wheel for namesparser: filename=namesparser-1.0.0-cp36-none-any.whl size=2891 sha256=24c0c5f95aac085d2e8e9d333f1aa2bd1a6ed9f2744047d2fbf8b9274f96a46a\n",
            "  Stored in directory: /root/.cache/pip/wheels/b4/8d/38/59eb785c722f8eecd5a590851a1ee70d9551d9ccb4ef880511\n",
            "Successfully built namesparser\n",
            "Installing collected packages: nameparser, namesparser\n",
            "Successfully installed nameparser-1.0.5 namesparser-1.0.0\n"
          ],
          "name": "stdout"
        }
      ]
    },
    {
      "cell_type": "code",
      "metadata": {
        "id": "g7u59HqoMqXb",
        "colab_type": "code",
        "outputId": "b35a47cc-1c1b-453a-9dc2-349876f12c4a",
        "colab": {
          "base_uri": "https://localhost:8080/",
          "height": 71
        }
      },
      "source": [
        "# Import useful libraries and change settings\n",
        "\n",
        "# General\n",
        "import numpy as np\n",
        "import pandas as pd\n",
        "import re\n",
        "import math\n",
        "import IPython\n",
        "import sys\n",
        "import pdb\n",
        "from random import random\n",
        "from langdetect import detect\n",
        "from pandas.api.types import is_string_dtype, is_numeric_dtype, is_categorical_dtype\n",
        "import matplotlib.pyplot as plt\n",
        "import seaborn as sns\n",
        "import glob\n",
        "\n",
        "# Scraping\n",
        "import requests\n",
        "from bs4 import BeautifulSoup\n",
        "\n",
        "# General ML functions\n",
        "import scipy.stats\n",
        "import sklearn.model_selection as ms\n",
        "from sklearn.ensemble import RandomForestClassifier, ExtraTreesClassifier, GradientBoostingClassifier\n",
        "from sklearn.ensemble import RandomForestRegressor, ExtraTreesRegressor, GradientBoostingRegressor\n",
        "from sklearn import metrics\n",
        "from sklearn.experimental import enable_iterative_imputer\n",
        "from sklearn.impute import IterativeImputer\n",
        "from scipy.cluster import hierarchy as hc\n",
        "from sklearn.preprocessing import LabelEncoder, StandardScaler\n",
        "from sklearn.ensemble import forest\n",
        "from sklearn.tree import export_graphviz\n",
        "from sklearn.linear_model import LinearRegression, Ridge, Lasso, ElasticNet\n",
        "\n",
        "# NLP\n",
        "from textblob import TextBlob\n",
        "import spacy\n",
        "from gensim.utils import simple_preprocess\n",
        "from gensim.parsing.preprocessing import STOPWORDS\n",
        "import nltk\n",
        "from nltk.corpus import names\n",
        "from nltk.stem import WordNetLemmatizer\n",
        "from names_dataset import NameDataset\n",
        "import nameparser\n",
        "\n",
        "# Settings \n",
        "import warnings\n",
        "pd.set_option('display.max_columns', 500)\n",
        "pd.set_option('display.max_rows', 500)\n",
        "warnings.filterwarnings('ignore')"
      ],
      "execution_count": 5,
      "outputs": [
        {
          "output_type": "stream",
          "text": [
            "/usr/local/lib/python3.6/dist-packages/sklearn/utils/deprecation.py:144: FutureWarning: The sklearn.ensemble.forest module is  deprecated in version 0.22 and will be removed in version 0.24. The corresponding classes / functions should instead be imported from sklearn.ensemble. Anything that cannot be imported from sklearn.ensemble is now part of the private API.\n",
            "  warnings.warn(message, FutureWarning)\n"
          ],
          "name": "stderr"
        }
      ]
    },
    {
      "cell_type": "markdown",
      "metadata": {
        "id": "k6aOmD7VMqXo",
        "colab_type": "text"
      },
      "source": [
        "### Functions"
      ]
    },
    {
      "cell_type": "code",
      "metadata": {
        "id": "NJ-W-7OHMqXq",
        "colab_type": "code",
        "colab": {}
      },
      "source": [
        "def sentiment_func(x):\n",
        "    sentiment = TextBlob(x['blurb'])\n",
        "    x['polarity'] = sentiment.polarity\n",
        "    x['subjectivity'] = sentiment.subjectivity\n",
        "    return x\n",
        "\n",
        "\n",
        "def detect_language(text):\n",
        "    try:\n",
        "        return detect(text)\n",
        "    except:\n",
        "        return \"Language Not Detected\"\n",
        "\n",
        "    \n",
        "def filter_ks(data):\n",
        "    print(\"Raw dataset: \", data.shape)\n",
        "    data_unique = data[~data.duplicated(subset=['id'])]\n",
        "    print(\"Unique dataset: \", data_unique.shape)\n",
        "    data_final = data_unique[data_unique.state != 'live']\n",
        "    print(\"Unique and live dataset: \", data_final.shape)\n",
        "    return data_final\n",
        "\n",
        "\n",
        "def process_ks(data):\n",
        "    origin_date = pd.Timestamp('01-01-1970')\n",
        "    data['deadline_datetime'] = origin_date + pd.TimedeltaIndex(round(data.deadline/(60*60*24)), unit='D')\n",
        "    data['created_at_datetime'] = origin_date + pd.TimedeltaIndex(round(data.created_at/(60*60*24)), unit='D')\n",
        "    data['launched_by_datetime'] = origin_date + pd.TimedeltaIndex(round(data.launched_at/(60*60*24)), unit='D')\n",
        "    data['funding_window'] = (data.deadline_datetime - data.launched_by_datetime)/pd.Timedelta(days=1)\n",
        "    data['creation_window'] = (data.launched_by_datetime - data.created_at_datetime)/pd.Timedelta(days=1)\n",
        "    data['total_window'] = (data.deadline_datetime - data.created_at_datetime)/pd.Timedelta(days=1)\n",
        "    data['launched_by_year'] = data.launched_by_datetime.map(lambda x: x.year)\n",
        "    data['launched_by_month'] = data.launched_by_datetime.map(lambda x: x.month)\n",
        "    data['launched_by_day'] = data.launched_by_datetime.map(lambda x: x.day)\n",
        "    data.loc[data.state == 'successful','successful'] = True\n",
        "    data.loc[data.state != 'successful','successful'] = False\n",
        "    data['blurb_len'] = data.blurb.str.len()\n",
        "    data['creator_name'] = data.creator.str.split(',').str[1].str.split(':').str[1].str.strip('\"\"')\n",
        "    data['creator_id'] = data.creator.str.split(',').str[0].str.split(':').str[1].astype(int)\n",
        "    data['subcategory'] = data.category.str.split(',').str[1].str.split(':').str[1].str.strip('\"\"')\n",
        "    data['main_category'] = data.category.str.split(',').str[2].str.split(':').str[1].str.strip('\"\"').str.split('/').str[0]\n",
        "    data['project_url'] =data.urls.str.split('\"').str[5]\n",
        "    data['town'] = data.location.str.split(',').str[1].str.split(':').str[1].str.strip('\"\"')\n",
        "    data['county'] = data.location.str.split(',').str[9].str.split(':').str[1].str.strip('\"\"')\n",
        "    data.blurb.fillna('Unknown',inplace=True)\n",
        "    data['goal_usd'] = data.goal * data.fx_rate\n",
        "    data['funding_rate'] = data.goal_usd / data.funding_window\n",
        "    \n",
        "    return data\n",
        "\n",
        "\n",
        "def creator_type(org_entity_field, name_field):\n",
        "    if (org_entity_field != '[]' and name_field == False):\n",
        "        return 'Organisation'\n",
        "    else:\n",
        "        return 'Individual'"
      ],
      "execution_count": 0,
      "outputs": []
    },
    {
      "cell_type": "markdown",
      "metadata": {
        "id": "Obu0SXubMqXy",
        "colab_type": "text"
      },
      "source": [
        "## Load data"
      ]
    },
    {
      "cell_type": "code",
      "metadata": {
        "id": "sprWp-lrMqX0",
        "colab_type": "code",
        "colab": {}
      },
      "source": [
        "#path = r'kickstarter_data_2019_12_12'\n",
        "#all_files = glob.glob(path + \"/*.csv\")\n",
        "\n",
        "#li = []\n",
        "#for filename in all_files:\n",
        "#    df = pd.read_csv(filename, index_col=None, header=0)\n",
        "#    li.append(df)\n",
        "\n",
        "#df_2019 = pd.concat(li, axis=0, ignore_index=True)"
      ],
      "execution_count": 0,
      "outputs": []
    },
    {
      "cell_type": "code",
      "metadata": {
        "id": "OXM43w8wN1K2",
        "colab_type": "code",
        "colab": {}
      },
      "source": [
        "#path = r'kickstarter_data_2018_11_15'\n",
        "#all_files = glob.glob(path + \"/*.csv\")\n",
        "\n",
        "#li = []\n",
        "#for filename in all_files:\n",
        "#    df = pd.read_csv(filename, index_col=None, header=0)\n",
        "#    li.append(df)\n",
        "\n",
        "#df_2018 = pd.concat(li, axis=0, ignore_index=True)"
      ],
      "execution_count": 0,
      "outputs": []
    },
    {
      "cell_type": "code",
      "metadata": {
        "id": "bIN05BPqMqYB",
        "colab_type": "code",
        "colab": {}
      },
      "source": [
        "df_2019 = pd.read_csv(base_dir + \"raw_kickstarter_2019.csv\")"
      ],
      "execution_count": 0,
      "outputs": []
    },
    {
      "cell_type": "code",
      "metadata": {
        "id": "N8n43l3_MqYG",
        "colab_type": "code",
        "outputId": "41ea4268-831b-4739-8b9d-ff2a25dfa7da",
        "colab": {
          "base_uri": "https://localhost:8080/",
          "height": 187
        }
      },
      "source": [
        "df_2019.columns"
      ],
      "execution_count": 10,
      "outputs": [
        {
          "output_type": "execute_result",
          "data": {
            "text/plain": [
              "Index(['backers_count', 'blurb', 'category', 'converted_pledged_amount',\n",
              "       'country', 'country_displayable_name', 'created_at', 'creator',\n",
              "       'currency', 'currency_symbol', 'currency_trailing_code',\n",
              "       'current_currency', 'deadline', 'disable_communication', 'friends',\n",
              "       'fx_rate', 'goal', 'id', 'is_backing', 'is_starrable', 'is_starred',\n",
              "       'launched_at', 'location', 'name', 'permissions', 'photo', 'pledged',\n",
              "       'profile', 'slug', 'source_url', 'spotlight', 'staff_pick', 'state',\n",
              "       'state_changed_at', 'static_usd_rate', 'urls', 'usd_pledged',\n",
              "       'usd_type'],\n",
              "      dtype='object')"
            ]
          },
          "metadata": {
            "tags": []
          },
          "execution_count": 10
        }
      ]
    },
    {
      "cell_type": "code",
      "metadata": {
        "id": "k1a2ryzDXcT5",
        "colab_type": "code",
        "colab": {
          "base_uri": "https://localhost:8080/",
          "height": 34
        },
        "outputId": "2a4b7811-c8c0-4a40-d17b-3a1ae5340fd1"
      },
      "source": [
        "test = df_2019.creator.str.split(',').str[0].str.split(':').str[1].astype(int)\n",
        "#test = df_2019.creator.str.split(',').str[0].str.split(':').str[1].str.strip('\"\"')\n",
        "test.dtypes"
      ],
      "execution_count": 11,
      "outputs": [
        {
          "output_type": "execute_result",
          "data": {
            "text/plain": [
              "dtype('int64')"
            ]
          },
          "metadata": {
            "tags": []
          },
          "execution_count": 11
        }
      ]
    },
    {
      "cell_type": "code",
      "metadata": {
        "id": "qv2MKKyZMqYL",
        "colab_type": "code",
        "outputId": "482eee45-452d-4368-aca8-111cac4bcef4",
        "colab": {
          "base_uri": "https://localhost:8080/",
          "height": 34
        }
      },
      "source": [
        "#Check size\n",
        "print(\"2019 datafile: \", df_2019.memory_usage(index=True).sum()/10**6, \"MB\")\n",
        "#print(\"2018 datafile: \", df_2018.memory_usage(index=True).sum()/10**6, \"MB\")"
      ],
      "execution_count": 12,
      "outputs": [
        {
          "output_type": "stream",
          "text": [
            "2019 datafile:  58.050328 MB\n"
          ],
          "name": "stdout"
        }
      ]
    },
    {
      "cell_type": "code",
      "metadata": {
        "id": "X5UskmLiMqYR",
        "colab_type": "code",
        "colab": {}
      },
      "source": [
        "# Scrape data\n",
        "\n",
        "#URL = kickstarter_2019.project_url[1]\n",
        "#response = requests.get(URL)\n",
        "#extract = BeautifulSoup(response.text, 'html.parser')\n",
        "#text = BeautifulSoup(response.text, 'lxml')\n",
        "#extract = text.find('div',attrs={'id':'story'})\n",
        "#extract = text.find('div',attrs={'class':'rte___content'})\n",
        "#extract2 = extract.find('div')\n",
        "#extract3 = extract2.find('p')\n",
        "\n",
        "#for row in extract.findAll('div', attrs = {'class':'quote'}): \n",
        "#    quote = {} \n",
        "#    quote['theme'] = row.h5.text \n",
        "\n",
        "#extract.contents\n",
        "#print(text.prettify())\n",
        "#print(extract.prettify())"
      ],
      "execution_count": 0,
      "outputs": []
    },
    {
      "cell_type": "markdown",
      "metadata": {
        "id": "XWSKIuseMqYV",
        "colab_type": "text"
      },
      "source": [
        "## Data cleansing 2019"
      ]
    },
    {
      "cell_type": "code",
      "metadata": {
        "id": "5W1EYvOhMqYX",
        "colab_type": "code",
        "outputId": "43a354c2-1f3f-400d-fdd6-0bfb8021170c",
        "colab": {
          "base_uri": "https://localhost:8080/",
          "height": 85
        }
      },
      "source": [
        "kickstarter_2019 = filter_ks(df_2019)\n",
        "print(\"-----\")\n",
        "#kickstarter_2018 = filter_ks(df_2018)\n",
        "\n",
        "# Engineer dataset\n",
        "kickstarter_2019 = process_ks(kickstarter_2019)\n",
        "#kickstarter_2018 = process_ks(kickstarter_2018)"
      ],
      "execution_count": 14,
      "outputs": [
        {
          "output_type": "stream",
          "text": [
            "Raw dataset:  (215800, 38)\n",
            "Unique dataset:  (188385, 38)\n",
            "Unique and live dataset:  (185050, 38)\n",
            "-----\n"
          ],
          "name": "stdout"
        }
      ]
    },
    {
      "cell_type": "code",
      "metadata": {
        "id": "NrT6vr0mMqYa",
        "colab_type": "code",
        "outputId": "c78bca91-eefb-4e42-bd95-a68af8464a83",
        "colab": {
          "base_uri": "https://localhost:8080/",
          "height": 34
        }
      },
      "source": [
        "# Remove all duplicates from 2019 analysis\n",
        "\n",
        "kickstarter_2019['duplicate'] = kickstarter_2019.duplicated('blurb', keep=False)\n",
        "duplicates = kickstarter_2019[kickstarter_2019.duplicate == True].sort_values(by=['blurb','launched_by_datetime'])\n",
        "print(duplicates.shape)\n",
        "kickstarter_2019 = kickstarter_2019[kickstarter_2019.duplicate == False]"
      ],
      "execution_count": 15,
      "outputs": [
        {
          "output_type": "stream",
          "text": [
            "(2792, 59)\n"
          ],
          "name": "stdout"
        }
      ]
    },
    {
      "cell_type": "code",
      "metadata": {
        "id": "DCnmUcWjMqYd",
        "colab_type": "code",
        "colab": {}
      },
      "source": [
        "# Remove all duplicates from 2018 analysis\n",
        "\n",
        "#kickstarter_2018['duplicate'] = kickstarter_2018.duplicated('blurb', keep=False)\n",
        "#duplicates = kickstarter_2018[kickstarter_2018.duplicate == True].sort_values(by=['blurb','launched_by_datetime'])\n",
        "#print(duplicates.shape)\n",
        "#kickstarter_2018 = kickstarter_2018[kickstarter_2018.duplicate == False]"
      ],
      "execution_count": 0,
      "outputs": []
    },
    {
      "cell_type": "code",
      "metadata": {
        "id": "BZtb7QRAMqYg",
        "colab_type": "code",
        "outputId": "144d5f82-2312-40e7-d2ce-bb624f39ee5b",
        "colab": {
          "base_uri": "https://localhost:8080/",
          "height": 85
        }
      },
      "source": [
        "# Filter 2019 kickstarter data for English descroptions\n",
        "\n",
        "print(kickstarter_2019.shape)\n",
        "%time kickstarter_2019[\"language_est\"] = kickstarter_2019.blurb.apply(detect_language)\n",
        "kickstarter_2019 = kickstarter_2019[kickstarter_2019.language_est == 'en']\n",
        "print(kickstarter_2019.shape)"
      ],
      "execution_count": 17,
      "outputs": [
        {
          "output_type": "stream",
          "text": [
            "(182258, 59)\n",
            "CPU times: user 13min 14s, sys: 9.39 s, total: 13min 24s\n",
            "Wall time: 13min 24s\n",
            "(175200, 60)\n"
          ],
          "name": "stdout"
        }
      ]
    },
    {
      "cell_type": "code",
      "metadata": {
        "id": "KhPlTie5MqYi",
        "colab_type": "code",
        "colab": {}
      },
      "source": [
        "# Filter 2018 kickstarter data for English descroptions\n",
        "\n",
        "#print(kickstarter_2018.shape)\n",
        "#%time kickstarter_2018[\"language_est\"] = kickstarter_2018.blurb.apply(detect_language)\n",
        "#kickstarter_2018 = kickstarter_2018[kickstarter_2018.language_est == 'en']\n",
        "#print(kickstarter_2018.shape)"
      ],
      "execution_count": 0,
      "outputs": []
    },
    {
      "cell_type": "markdown",
      "metadata": {
        "id": "feI2uHlhMqYl",
        "colab_type": "text"
      },
      "source": [
        "### Feature engineering"
      ]
    },
    {
      "cell_type": "code",
      "metadata": {
        "id": "fe8Kb3lcMqYm",
        "colab_type": "code",
        "outputId": "0152028d-f0bb-467a-adab-a835668191c5",
        "colab": {
          "base_uri": "https://localhost:8080/",
          "height": 51
        }
      },
      "source": [
        "# Add % target\n",
        "kickstarter_2019['perc_target'] = kickstarter_2019['usd_pledged']/kickstarter_2019['goal']\n",
        "\n",
        "# Add objectivity and polarity\n",
        "%time kickstarter_2019 = kickstarter_2019.apply(sentiment_func, axis=1)"
      ],
      "execution_count": 19,
      "outputs": [
        {
          "output_type": "stream",
          "text": [
            "CPU times: user 9min 15s, sys: 1.87 s, total: 9min 17s\n",
            "Wall time: 9min 17s\n"
          ],
          "name": "stdout"
        }
      ]
    },
    {
      "cell_type": "code",
      "metadata": {
        "id": "t7CltAAtMqYo",
        "colab_type": "code",
        "outputId": "b74c20b1-78bc-4a11-fb31-d01e3510d8ff",
        "colab": {
          "base_uri": "https://localhost:8080/",
          "height": 85
        }
      },
      "source": [
        "# Add creator type\n",
        "m = NameDataset()\n",
        "kickstarter_2019['first_name'] = kickstarter_2019.creator_name.str.split(' ').apply(lambda x: x[0]).str.lower()\n",
        "kickstarter_2019['creator_individual_name_dataset'] = kickstarter_2019.first_name.apply(lambda x: m.search_first_name(x))\n",
        "\n",
        "nlp = spacy.load(\"en\")\n",
        "%time kickstarter_2019['creator_person_entity'] = kickstarter_2019.apply(lambda row: [token for token in nlp(row.creator_name) if token.ent_type_ == 'PERSON'], axis=1)\n",
        "%time kickstarter_2019['creator_org_entity'] = kickstarter_2019.apply(lambda row: [token for token in nlp(row.creator_name) if token.ent_type_ == 'ORG'], axis=1)\n",
        "\n",
        "kickstarter_2019['creator_type'] = kickstarter_2019.apply(lambda x: creator_type(x['creator_org_entity'],x['creator_individual_name_dataset']),axis=1)"
      ],
      "execution_count": 20,
      "outputs": [
        {
          "output_type": "stream",
          "text": [
            "CPU times: user 23min 32s, sys: 3.34 s, total: 23min 35s\n",
            "Wall time: 23min 35s\n",
            "CPU times: user 23min 25s, sys: 2.46 s, total: 23min 28s\n",
            "Wall time: 23min 28s\n"
          ],
          "name": "stdout"
        }
      ]
    },
    {
      "cell_type": "markdown",
      "metadata": {
        "id": "Q3s5YdReMqYr",
        "colab_type": "text"
      },
      "source": [
        "## Exploratory Data Analysis"
      ]
    },
    {
      "cell_type": "markdown",
      "metadata": {
        "id": "ynIYiq0GMqYr",
        "colab_type": "text"
      },
      "source": [
        "### 2019 vs 2018 analysis"
      ]
    },
    {
      "cell_type": "code",
      "metadata": {
        "id": "KEE_6kYQMqYs",
        "colab_type": "code",
        "colab": {}
      },
      "source": [
        "#df_summary_2019 = kickstarter_2019[['launched_by_year','successful']]\n",
        "df_summary_2019 = kickstarter_2019[['launched_by_year','successful']].groupby(['launched_by_year']).agg(['count','mean']).reset_index()\n",
        "df_summary_2019.columns = ['launched_by_year','project_count','project_success_rate']"
      ],
      "execution_count": 0,
      "outputs": []
    },
    {
      "cell_type": "code",
      "metadata": {
        "id": "z82Kt_IUMqYu",
        "colab_type": "code",
        "colab": {}
      },
      "source": [
        "#df_summary_2018 = kickstarter_2018[['launched_by_year','successful']].groupby(['launched_by_year']).agg(['count','mean']).reset_index()\n",
        "#df_summary_2018.columns = ['launched_by_year','project_count','project_success_rate']"
      ],
      "execution_count": 0,
      "outputs": []
    },
    {
      "cell_type": "code",
      "metadata": {
        "id": "R06JlGLqMqYw",
        "colab_type": "code",
        "colab": {}
      },
      "source": [
        "#comparison_18_19 = df_summary_2019.merge(df_summary_2018, how='left', on='launched_by_year')\n",
        "#comparison_18_19.columns = ['launched_by_year', 'project_count_2019', 'success_rate_2019','project_count_2018', 'success_rate_2018']\n",
        "#ax = sns.lineplot(x=\"launched_by_year\", y=\"success_rate_2019\", data=comparison_18_19)\n",
        "#ax = sns.lineplot(x=\"launched_by_year\", y=\"success_rate_2018\", data=comparison_18_19)"
      ],
      "execution_count": 0,
      "outputs": []
    },
    {
      "cell_type": "code",
      "metadata": {
        "id": "uLEFYP6XMqY1",
        "colab_type": "code",
        "colab": {}
      },
      "source": [
        "#ax = sns.lineplot(x=\"launched_by_year\", y=\"project_count_2019\", data=comparison_18_19)\n",
        "#ax = sns.lineplot(x=\"launched_by_year\", y=\"project_count_2018\", data=comparison_18_19)"
      ],
      "execution_count": 0,
      "outputs": []
    },
    {
      "cell_type": "code",
      "metadata": {
        "scrolled": false,
        "id": "rOMK0_4fMqY5",
        "colab_type": "code",
        "colab": {}
      },
      "source": [
        "# Merge on ids\n",
        "#id_2019 = kickstarter_2019[['id','launched_by_year','successful']].rename(columns = {'launched_by_year':'year_19','successful':'success_rate_19'})\n",
        "#id_2018 = kickstarter_2018[['id','launched_by_year','successful']].rename(columns = {'launched_by_year':'year_18','successful':'success_rate_18'})\n",
        "\n",
        "#comparison_18_19 = id_2018.merge(id_2019, how='left', on='id').drop(['id','year_19'],axis=1)\n",
        "#summary_18_19 = comparison_18_19.groupby(['year_18']).agg(['count']).reset_index()\n",
        "#summary_18_19.columns = ['launched_by_year','2018_records','2019_records']\n",
        "#ax = sns.lineplot(x=\"launched_by_year\", y=\"2019_records\", data=summary_18_19)\n",
        "#ax = sns.lineplot(x=\"launched_by_year\", y=\"2018_records\", data=summary_18_19)"
      ],
      "execution_count": 0,
      "outputs": []
    },
    {
      "cell_type": "code",
      "metadata": {
        "id": "v995EuHeMqY8",
        "colab_type": "code",
        "colab": {}
      },
      "source": [
        "size_bins = np.array([0,5000,10000,30000,100000,500000,1000000,100000000,10000000000])\n",
        "categories = ['0-5k','5-10k','10-30k','30-100k','100-500k','500k-1m','1-10m','10m+']\n",
        "size_distn = kickstarter_2019['bucket'] = pd.cut(kickstarter_2019.usd_pledged, size_bins)\n",
        "size_distn = kickstarter_2019[['bucket','usd_pledged']].groupby(['bucket']).agg(['count','sum'])\n",
        "size_distn.reset_index(inplace=True)\n",
        "size_distn.columns = ['bucket_range','count','usd_sum']\n",
        "size_distn['category'] = categories"
      ],
      "execution_count": 0,
      "outputs": []
    },
    {
      "cell_type": "code",
      "metadata": {
        "id": "Dgrse0EfY6cn",
        "colab_type": "code",
        "outputId": "e79522eb-2b5e-4f0d-bb58-c48d9820d36a",
        "colab": {
          "base_uri": "https://localhost:8080/",
          "height": 297
        }
      },
      "source": [
        "size_distn"
      ],
      "execution_count": 27,
      "outputs": [
        {
          "output_type": "execute_result",
          "data": {
            "text/html": [
              "<div>\n",
              "<style scoped>\n",
              "    .dataframe tbody tr th:only-of-type {\n",
              "        vertical-align: middle;\n",
              "    }\n",
              "\n",
              "    .dataframe tbody tr th {\n",
              "        vertical-align: top;\n",
              "    }\n",
              "\n",
              "    .dataframe thead th {\n",
              "        text-align: right;\n",
              "    }\n",
              "</style>\n",
              "<table border=\"1\" class=\"dataframe\">\n",
              "  <thead>\n",
              "    <tr style=\"text-align: right;\">\n",
              "      <th></th>\n",
              "      <th>bucket_range</th>\n",
              "      <th>count</th>\n",
              "      <th>usd_sum</th>\n",
              "      <th>category</th>\n",
              "    </tr>\n",
              "  </thead>\n",
              "  <tbody>\n",
              "    <tr>\n",
              "      <th>0</th>\n",
              "      <td>(0, 5000]</td>\n",
              "      <td>107060</td>\n",
              "      <td>1.268939e+08</td>\n",
              "      <td>0-5k</td>\n",
              "    </tr>\n",
              "    <tr>\n",
              "      <th>1</th>\n",
              "      <td>(5000, 10000]</td>\n",
              "      <td>19819</td>\n",
              "      <td>1.362197e+08</td>\n",
              "      <td>5-10k</td>\n",
              "    </tr>\n",
              "    <tr>\n",
              "      <th>2</th>\n",
              "      <td>(10000, 30000]</td>\n",
              "      <td>20726</td>\n",
              "      <td>3.440769e+08</td>\n",
              "      <td>10-30k</td>\n",
              "    </tr>\n",
              "    <tr>\n",
              "      <th>3</th>\n",
              "      <td>(30000, 100000]</td>\n",
              "      <td>8308</td>\n",
              "      <td>4.209359e+08</td>\n",
              "      <td>30-100k</td>\n",
              "    </tr>\n",
              "    <tr>\n",
              "      <th>4</th>\n",
              "      <td>(100000, 500000]</td>\n",
              "      <td>2832</td>\n",
              "      <td>5.472451e+08</td>\n",
              "      <td>100-500k</td>\n",
              "    </tr>\n",
              "    <tr>\n",
              "      <th>5</th>\n",
              "      <td>(500000, 1000000]</td>\n",
              "      <td>324</td>\n",
              "      <td>2.139405e+08</td>\n",
              "      <td>500k-1m</td>\n",
              "    </tr>\n",
              "    <tr>\n",
              "      <th>6</th>\n",
              "      <td>(1000000, 100000000]</td>\n",
              "      <td>195</td>\n",
              "      <td>3.923049e+08</td>\n",
              "      <td>1-10m</td>\n",
              "    </tr>\n",
              "    <tr>\n",
              "      <th>7</th>\n",
              "      <td>(100000000, 10000000000]</td>\n",
              "      <td>0</td>\n",
              "      <td>0.000000e+00</td>\n",
              "      <td>10m+</td>\n",
              "    </tr>\n",
              "  </tbody>\n",
              "</table>\n",
              "</div>"
            ],
            "text/plain": [
              "               bucket_range   count       usd_sum  category\n",
              "0                 (0, 5000]  107060  1.268939e+08      0-5k\n",
              "1             (5000, 10000]   19819  1.362197e+08     5-10k\n",
              "2            (10000, 30000]   20726  3.440769e+08    10-30k\n",
              "3           (30000, 100000]    8308  4.209359e+08   30-100k\n",
              "4          (100000, 500000]    2832  5.472451e+08  100-500k\n",
              "5         (500000, 1000000]     324  2.139405e+08   500k-1m\n",
              "6      (1000000, 100000000]     195  3.923049e+08     1-10m\n",
              "7  (100000000, 10000000000]       0  0.000000e+00      10m+"
            ]
          },
          "metadata": {
            "tags": []
          },
          "execution_count": 27
        }
      ]
    },
    {
      "cell_type": "code",
      "metadata": {
        "id": "OvcTliVZYA3a",
        "colab_type": "code",
        "outputId": "477a6011-fa06-4b69-f1d0-f3dad1951dbb",
        "colab": {
          "base_uri": "https://localhost:8080/",
          "height": 290
        }
      },
      "source": [
        "fig, ax1 = plt.subplots(figsize=(10,4))\n",
        "ax2 = ax1.twinx()\n",
        "sns.lineplot(x='category', y='usd_sum', data=size_distn, color = 'salmon', ax=ax2)\n",
        "sns.barplot(x='category', y='count', data= size_distn, color='aqua', ax=ax1)\n",
        "plt.show()\n",
        "sns.set()"
      ],
      "execution_count": 28,
      "outputs": [
        {
          "output_type": "display_data",
          "data": {
            "image/png": "[encoded data removed]",
            "text/plain": [
              "<Figure size 720x288 with 2 Axes>"
            ]
          },
          "metadata": {
            "tags": []
          }
        }
      ]
    },
    {
      "cell_type": "code",
      "metadata": {
        "id": "fCxTFetHalVX",
        "colab_type": "code",
        "outputId": "64e274b5-ebdc-4c98-a68f-65693083578f",
        "colab": {
          "base_uri": "https://localhost:8080/",
          "height": 453
        }
      },
      "source": [
        "fig, ax = plt.subplots()\n",
        "ax = sns.barplot(x=\"category\", y=\"count\", data=size_distn, color = 'orange')\n",
        "ax.set(xlabel='Project category', ylabel='Count')\n",
        "fig.set_size_inches(10,6)\n",
        "plt.xticks(rotation=90)"
      ],
      "execution_count": 29,
      "outputs": [
        {
          "output_type": "execute_result",
          "data": {
            "text/plain": [
              "(array([0, 1, 2, 3, 4, 5, 6, 7]), <a list of 8 Text xticklabel objects>)"
            ]
          },
          "metadata": {
            "tags": []
          },
          "execution_count": 29
        },
        {
          "output_type": "display_data",
          "data": {
            "image/png": "[encoded data removed]",
            "text/plain": [
              "<Figure size 720x432 with 1 Axes>"
            ]
          },
          "metadata": {
            "tags": []
          }
        }
      ]
    },
    {
      "cell_type": "code",
      "metadata": {
        "id": "evFwGC35T_ni",
        "colab_type": "code",
        "outputId": "41eca523-fa73-4e54-e558-e94f1e391f63",
        "colab": {
          "base_uri": "https://localhost:8080/",
          "height": 464
        }
      },
      "source": [
        "fig, ax = plt.subplots()\n",
        "ax = sns.barplot(x=\"category\", y=\"usd_sum\", data=size_distn, color = 'orange')\n",
        "ax.set(xlabel='Project category', ylabel='USD pledged')\n",
        "fig.set_size_inches(10,6)\n",
        "plt.xticks(rotation=90)"
      ],
      "execution_count": 30,
      "outputs": [
        {
          "output_type": "execute_result",
          "data": {
            "text/plain": [
              "(array([0, 1, 2, 3, 4, 5, 6, 7]), <a list of 8 Text xticklabel objects>)"
            ]
          },
          "metadata": {
            "tags": []
          },
          "execution_count": 30
        },
        {
          "output_type": "display_data",
          "data": {
            "image/png": "[encoded data removed]",
            "text/plain": [
              "<Figure size 720x432 with 1 Axes>"
            ]
          },
          "metadata": {
            "tags": []
          }
        }
      ]
    },
    {
      "cell_type": "markdown",
      "metadata": {
        "id": "-TIxBzznMqY_",
        "colab_type": "text"
      },
      "source": [
        "### Project category analysis"
      ]
    },
    {
      "cell_type": "code",
      "metadata": {
        "id": "iNOYc4q2MqZA",
        "colab_type": "code",
        "colab": {}
      },
      "source": [
        "# Annual analysis\n",
        "summary = kickstarter_2019[['launched_by_year','goal','pledged','successful']]\n",
        "summary.groupby(['launched_by_year']).agg(['count','mean','sum'])\n",
        "summary.columns = summary.columns.map('_'.join).str.strip('|')"
      ],
      "execution_count": 0,
      "outputs": []
    },
    {
      "cell_type": "code",
      "metadata": {
        "id": "pCmxo7mbMqZD",
        "colab_type": "code",
        "colab": {}
      },
      "source": [
        "# Category analysis\n",
        "summary = kickstarter_2019[['main_category','goal','usd_pledged','successful']].groupby(['main_category']).agg(['count','mean','sum','max'])\n",
        "summary.columns = summary.columns.map('_'.join).str.strip('|')\n",
        "summary.sort_values(by=['goal_count'], ascending=False, inplace=True)\n",
        "summary.reset_index(inplace=True)"
      ],
      "execution_count": 0,
      "outputs": []
    },
    {
      "cell_type": "code",
      "metadata": {
        "id": "KWOEAR_wTRD0",
        "colab_type": "code",
        "outputId": "4c550936-c4ac-4a3a-baf3-05d2263bb9a0",
        "colab": {
          "base_uri": "https://localhost:8080/",
          "height": 499
        }
      },
      "source": [
        "summary.sort_values(by=['usd_pledged_sum'], ascending=False, inplace=True)\n",
        "fig, ax = plt.subplots()\n",
        "ax = sns.barplot(x=\"main_category\", y=\"usd_pledged_sum\", data=summary, color = 'grey')\n",
        "ax.set(xlabel='Project category', ylabel='USD pledged')\n",
        "fig.set_size_inches(10,6)\n",
        "plt.xticks(rotation=90)"
      ],
      "execution_count": 33,
      "outputs": [
        {
          "output_type": "execute_result",
          "data": {
            "text/plain": [
              "(array([ 0,  1,  2,  3,  4,  5,  6,  7,  8,  9, 10, 11, 12, 13, 14]),\n",
              " <a list of 15 Text xticklabel objects>)"
            ]
          },
          "metadata": {
            "tags": []
          },
          "execution_count": 33
        },
        {
          "output_type": "display_data",
          "data": {
            "image/png": "[encoded data removed]",
            "text/plain": [
              "<Figure size 720x432 with 1 Axes>"
            ]
          },
          "metadata": {
            "tags": []
          }
        }
      ]
    },
    {
      "cell_type": "code",
      "metadata": {
        "id": "Y1te2fhgUQJa",
        "colab_type": "code",
        "outputId": "db343d70-4026-4d6a-a740-2fc6d847193e",
        "colab": {
          "base_uri": "https://localhost:8080/",
          "height": 488
        }
      },
      "source": [
        "summary.sort_values(by=['goal_count'], ascending=False, inplace=True)\n",
        "fig, ax = plt.subplots()\n",
        "ax = sns.barplot(x=\"main_category\", y=\"goal_count\", data=summary, color = 'grey')\n",
        "ax.set(xlabel='Project category', ylabel='Count')\n",
        "fig.set_size_inches(10,6)\n",
        "plt.xticks(rotation=90)"
      ],
      "execution_count": 34,
      "outputs": [
        {
          "output_type": "execute_result",
          "data": {
            "text/plain": [
              "(array([ 0,  1,  2,  3,  4,  5,  6,  7,  8,  9, 10, 11, 12, 13, 14]),\n",
              " <a list of 15 Text xticklabel objects>)"
            ]
          },
          "metadata": {
            "tags": []
          },
          "execution_count": 34
        },
        {
          "output_type": "display_data",
          "data": {
            "image/png": "[encoded data removed]",
            "text/plain": [
              "<Figure size 720x432 with 1 Axes>"
            ]
          },
          "metadata": {
            "tags": []
          }
        }
      ]
    },
    {
      "cell_type": "code",
      "metadata": {
        "id": "wcN0JsLKVEqs",
        "colab_type": "code",
        "outputId": "ed8c44c8-3f15-45cf-95a6-bfd6ee52ebbf",
        "colab": {
          "base_uri": "https://localhost:8080/",
          "height": 488
        }
      },
      "source": [
        "summary.sort_values(by=['usd_pledged_mean'], ascending=False, inplace=True)\n",
        "fig, ax = plt.subplots()\n",
        "ax = sns.barplot(x=\"main_category\", y=\"usd_pledged_mean\", data=summary, color = 'grey')\n",
        "ax.set(xlabel='Project category', ylabel='USD pledged')\n",
        "fig.set_size_inches(10,6)\n",
        "plt.xticks(rotation=90)"
      ],
      "execution_count": 35,
      "outputs": [
        {
          "output_type": "execute_result",
          "data": {
            "text/plain": [
              "(array([ 0,  1,  2,  3,  4,  5,  6,  7,  8,  9, 10, 11, 12, 13, 14]),\n",
              " <a list of 15 Text xticklabel objects>)"
            ]
          },
          "metadata": {
            "tags": []
          },
          "execution_count": 35
        },
        {
          "output_type": "display_data",
          "data": {
            "image/png": "[encoded data removed]",
            "text/plain": [
              "<Figure size 720x432 with 1 Axes>"
            ]
          },
          "metadata": {
            "tags": []
          }
        }
      ]
    },
    {
      "cell_type": "code",
      "metadata": {
        "id": "DoEDPiQPMqZJ",
        "colab_type": "code",
        "outputId": "c8ed640b-7aaf-4417-add5-bca16f472462",
        "colab": {
          "base_uri": "https://localhost:8080/",
          "height": 471
        }
      },
      "source": [
        "summary.sort_values(by=['usd_pledged_sum'], ascending=False, inplace=True)\n",
        "fig, ax1 = plt.subplots()\n",
        "ax2 = ax1.twinx()\n",
        "\n",
        "chart = sns.barplot(x=\"main_category\", y=\"usd_pledged_mean\", data=summary, color = 'turquoise', ax=ax1)\n",
        "sns.scatterplot(x=\"main_category\", y=\"successful_mean\", data=summary, color = 'red', ax=ax2, marker = 'x', label = 'Success rate %',)\n",
        "\n",
        "ax1.set(xlabel='Technology subcategory', ylabel='Average USD pledge per project')\n",
        "ax2.set(ylabel='Success rate')\n",
        "fig.set_size_inches(10,6)\n",
        "chart.set_xticklabels(chart.get_xticklabels(), rotation=90)\n",
        "ax1.legend(loc=0)\n",
        "plt.show()"
      ],
      "execution_count": 36,
      "outputs": [
        {
          "output_type": "stream",
          "text": [
            "No handles with labels found to put in legend.\n"
          ],
          "name": "stderr"
        },
        {
          "output_type": "display_data",
          "data": {
            "image/png": "[encoded data removed]",
            "text/plain": [
              "<Figure size 720x432 with 2 Axes>"
            ]
          },
          "metadata": {
            "tags": []
          }
        }
      ]
    },
    {
      "cell_type": "markdown",
      "metadata": {
        "id": "S4lTLGHXMqZx",
        "colab_type": "text"
      },
      "source": [
        "### Technology project analysis"
      ]
    },
    {
      "cell_type": "code",
      "metadata": {
        "id": "vgcQL94rMqZz",
        "colab_type": "code",
        "colab": {}
      },
      "source": [
        "# Subcategory analysis\n",
        "summary_sub_cat = kickstarter_2019[kickstarter_2019.main_category == 'technology'][['main_category','subcategory','goal','pledged','successful']].groupby(['main_category','subcategory']).agg(['count','mean','sum'])\n",
        "summary_sub_cat.columns = summary_sub_cat.columns.map('_'.join).str.strip('|')\n",
        "summary_sub_cat.reset_index(inplace=True)"
      ],
      "execution_count": 0,
      "outputs": []
    },
    {
      "cell_type": "code",
      "metadata": {
        "id": "-wj4_Jpvrbzv",
        "colab_type": "code",
        "colab": {
          "base_uri": "https://localhost:8080/",
          "height": 490
        },
        "outputId": "ad024865-1678-494d-ae2f-dba6952277fc"
      },
      "source": [
        "fig, ax1 = plt.subplots()\n",
        "ax2 = ax1.twinx()\n",
        "\n",
        "chart = sns.barplot(x=\"subcategory\", y=\"goal_count\", data=summary_sub_cat, color = 'skyblue', ax=ax1)\n",
        "sns.scatterplot(x=\"subcategory\", y=\"successful_mean\", data=summary_sub_cat, color = 'red', ax=ax2, marker = 'x')\n",
        "\n",
        "ax1.set(xlabel='Technology subcategory', ylabel='USD pledged')\n",
        "ax2.set(ylabel='Success rate')\n",
        "fig.set_size_inches(10,6)\n",
        "chart.set_xticklabels(chart.get_xticklabels(), rotation=90)\n",
        "plt.show()"
      ],
      "execution_count": 42,
      "outputs": [
        {
          "output_type": "display_data",
          "data": {
            "image/png": "[encoded data removed]",
            "text/plain": [
              "<Figure size 720x432 with 2 Axes>"
            ]
          },
          "metadata": {
            "tags": []
          }
        }
      ]
    },
    {
      "cell_type": "code",
      "metadata": {
        "id": "Htvl2gWdV1US",
        "colab_type": "code",
        "outputId": "b61fc54f-f469-40f1-c139-e02ec6240500",
        "colab": {
          "base_uri": "https://localhost:8080/",
          "height": 285
        }
      },
      "source": [
        "df_time = kickstarter_2019[['launched_by_datetime','successful']].groupby(['launched_by_datetime']).count()\n",
        "sns.lineplot(data=df_time)\n",
        "fig.set_size_inches(20,12)"
      ],
      "execution_count": 43,
      "outputs": [
        {
          "output_type": "display_data",
          "data": {
            "image/png": "[encoded data removed]",
            "text/plain": [
              "<Figure size 432x288 with 1 Axes>"
            ]
          },
          "metadata": {
            "tags": []
          }
        }
      ]
    },
    {
      "cell_type": "code",
      "metadata": {
        "id": "6UpxPghsbQm3",
        "colab_type": "code",
        "outputId": "ed1b5527-6eb5-41f5-ff77-d5a2ccc7dc2d",
        "colab": {
          "base_uri": "https://localhost:8080/",
          "height": 272
        }
      },
      "source": [
        "df_time = kickstarter_2019[['launched_by_year','successful']].groupby(['launched_by_year']).agg(['count','mean'])\n",
        "df_time.reset_index(inplace=True)\n",
        "df_time.columns = ['launched_by_year','project_count','success_rate']\n",
        "\n",
        "fig, ax1 = plt.subplots(figsize=(10,4))\n",
        "ax2 = ax1.twinx()\n",
        "\n",
        "#sns.barplot(x='launched_by_year', y='project_count', data= df_time, color='salmon', ax=ax1)\n",
        "sns.lineplot(x='launched_by_year', y='success_rate', data= df_time, color='blue', ax=ax2)\n",
        "\n",
        "plt.show()\n",
        "sns.set()"
      ],
      "execution_count": 44,
      "outputs": [
        {
          "output_type": "display_data",
          "data": {
            "image/png": "[encoded data removed]",
            "text/plain": [
              "<Figure size 720x288 with 2 Axes>"
            ]
          },
          "metadata": {
            "tags": []
          }
        }
      ]
    },
    {
      "cell_type": "markdown",
      "metadata": {
        "id": "XnbKjLeUMqaQ",
        "colab_type": "text"
      },
      "source": [
        "### Top projects"
      ]
    },
    {
      "cell_type": "code",
      "metadata": {
        "id": "_WUPiDvdMqaR",
        "colab_type": "code",
        "outputId": "d6f52251-1beb-47e6-880d-fe3129cbe673",
        "colab": {
          "base_uri": "https://localhost:8080/",
          "height": 1000
        }
      },
      "source": [
        "pd.set_option('display.max_colwidth', -1)\n",
        "kickstarter_2019.sort_values('usd_pledged', ascending=False).head(5)"
      ],
      "execution_count": 45,
      "outputs": [
        {
          "output_type": "execute_result",
          "data": {
            "text/html": [
              "<div>\n",
              "<style scoped>\n",
              "    .dataframe tbody tr th:only-of-type {\n",
              "        vertical-align: middle;\n",
              "    }\n",
              "\n",
              "    .dataframe tbody tr th {\n",
              "        vertical-align: top;\n",
              "    }\n",
              "\n",
              "    .dataframe thead th {\n",
              "        text-align: right;\n",
              "    }\n",
              "</style>\n",
              "<table border=\"1\" class=\"dataframe\">\n",
              "  <thead>\n",
              "    <tr style=\"text-align: right;\">\n",
              "      <th></th>\n",
              "      <th>backers_count</th>\n",
              "      <th>blurb</th>\n",
              "      <th>category</th>\n",
              "      <th>converted_pledged_amount</th>\n",
              "      <th>country</th>\n",
              "      <th>country_displayable_name</th>\n",
              "      <th>created_at</th>\n",
              "      <th>creator</th>\n",
              "      <th>currency</th>\n",
              "      <th>currency_symbol</th>\n",
              "      <th>currency_trailing_code</th>\n",
              "      <th>current_currency</th>\n",
              "      <th>deadline</th>\n",
              "      <th>disable_communication</th>\n",
              "      <th>friends</th>\n",
              "      <th>fx_rate</th>\n",
              "      <th>goal</th>\n",
              "      <th>id</th>\n",
              "      <th>is_backing</th>\n",
              "      <th>is_starrable</th>\n",
              "      <th>is_starred</th>\n",
              "      <th>launched_at</th>\n",
              "      <th>location</th>\n",
              "      <th>name</th>\n",
              "      <th>permissions</th>\n",
              "      <th>photo</th>\n",
              "      <th>pledged</th>\n",
              "      <th>profile</th>\n",
              "      <th>slug</th>\n",
              "      <th>source_url</th>\n",
              "      <th>spotlight</th>\n",
              "      <th>staff_pick</th>\n",
              "      <th>state</th>\n",
              "      <th>state_changed_at</th>\n",
              "      <th>static_usd_rate</th>\n",
              "      <th>urls</th>\n",
              "      <th>usd_pledged</th>\n",
              "      <th>usd_type</th>\n",
              "      <th>deadline_datetime</th>\n",
              "      <th>created_at_datetime</th>\n",
              "      <th>launched_by_datetime</th>\n",
              "      <th>funding_window</th>\n",
              "      <th>creation_window</th>\n",
              "      <th>total_window</th>\n",
              "      <th>launched_by_year</th>\n",
              "      <th>launched_by_month</th>\n",
              "      <th>launched_by_day</th>\n",
              "      <th>successful</th>\n",
              "      <th>blurb_len</th>\n",
              "      <th>creator_name</th>\n",
              "      <th>creator_id</th>\n",
              "      <th>subcategory</th>\n",
              "      <th>main_category</th>\n",
              "      <th>project_url</th>\n",
              "      <th>town</th>\n",
              "      <th>county</th>\n",
              "      <th>goal_usd</th>\n",
              "      <th>funding_rate</th>\n",
              "      <th>duplicate</th>\n",
              "      <th>language_est</th>\n",
              "      <th>perc_target</th>\n",
              "      <th>polarity</th>\n",
              "      <th>subjectivity</th>\n",
              "      <th>first_name</th>\n",
              "      <th>creator_individual_name_dataset</th>\n",
              "      <th>creator_person_entity</th>\n",
              "      <th>creator_org_entity</th>\n",
              "      <th>creator_type</th>\n",
              "      <th>bucket</th>\n",
              "    </tr>\n",
              "  </thead>\n",
              "  <tbody>\n",
              "    <tr>\n",
              "      <th>9769</th>\n",
              "      <td>27168</td>\n",
              "      <td>A full-featured tripod in a truly portable form.</td>\n",
              "      <td>{\"id\":28,\"name\":\"Product Design\",\"slug\":\"design/product design\",\"position\":5,\"parent_id\":7,\"color\":2577151,\"urls\":{\"web\":{\"discover\":\"http://www.kickstarter.com/discover/categories/design/product%20design\"}}}</td>\n",
              "      <td>12143435</td>\n",
              "      <td>US</td>\n",
              "      <td>the United States</td>\n",
              "      <td>1556224168</td>\n",
              "      <td>{\"id\":97103764,\"name\":\"Peak Design\",\"slug\":\"peak-design\",\"is_registered\":null,\"chosen_currency\":null,\"is_superbacker\":null,\"avatar\":{\"thumb\":\"https://ksr-ugc.imgix.net/assets/006/023/679/e2d8ec5dea004fd1f2bf17c7bb62d525_original.png?ixlib=rb-2.1.0&amp;w=40&amp;h=40&amp;fit=crop&amp;v=1510175320&amp;auto=format&amp;frame=1&amp;q=92&amp;s=81d408e16ce9d63f8b29e0da0de6fe21\",\"small\":\"https://ksr-ugc.imgix.net/assets/006/023/679/e2d8ec5dea004fd1f2bf17c7bb62d525_original.png?ixlib=rb-2.1.0&amp;w=160&amp;h=160&amp;fit=crop&amp;v=1510175320&amp;auto=format&amp;frame=1&amp;q=92&amp;s=e4c92f31aba1875f267533c5d25ae730\",\"medium\":\"https://ksr-ugc.imgix.net/assets/006/023/679/e2d8ec5dea004fd1f2bf17c7bb62d525_original.png?ixlib=rb-2.1.0&amp;w=160&amp;h=160&amp;fit=crop&amp;v=1510175320&amp;auto=format&amp;frame=1&amp;q=92&amp;s=e4c92f31aba1875f267533c5d25ae730\"},\"urls\":{\"web\":{\"user\":\"https://www.kickstarter.com/profile/peak-design\"},\"api\":{\"user\":\"https://api.kickstarter.com/v1/users/97103764?signature=1576211455.6845323629ac5084c2963f95f536cd009f105332\"}}}</td>\n",
              "      <td>USD</td>\n",
              "      <td>$</td>\n",
              "      <td>True</td>\n",
              "      <td>USD</td>\n",
              "      <td>1563494400</td>\n",
              "      <td>False</td>\n",
              "      <td>NaN</td>\n",
              "      <td>1.0</td>\n",
              "      <td>500000.0</td>\n",
              "      <td>1289129165</td>\n",
              "      <td>NaN</td>\n",
              "      <td>False</td>\n",
              "      <td>NaN</td>\n",
              "      <td>1558447202</td>\n",
              "      <td>{\"id\":2487956,\"name\":\"San Francisco\",\"slug\":\"san-francisco-ca\",\"short_name\":\"San Francisco, CA\",\"displayable_name\":\"San Francisco, CA\",\"localized_name\":\"San Francisco\",\"country\":\"US\",\"state\":\"CA\",\"type\":\"Town\",\"is_root\":false,\"expanded_country\":\"United States\",\"urls\":{\"web\":{\"discover\":\"https://www.kickstarter.com/discover/places/san-francisco-ca\",\"location\":\"https://www.kickstarter.com/locations/san-francisco-ca\"},\"api\":{\"nearby_projects\":\"https://api.kickstarter.com/v1/discover?signature=1576191125.8bc584e67f5b294cd2cc013d15f1dbf26d89685e&amp;woe_id=2487956\"}}}</td>\n",
              "      <td>Travel Tripod by Peak Design</td>\n",
              "      <td>NaN</td>\n",
              "      <td>{\"key\":\"assets/025/855/992/1c00ede28eba30818fd7f52d1e5e0bad_original.jpg\",\"full\":\"https://ksr-ugc.imgix.net/assets/025/855/992/1c00ede28eba30818fd7f52d1e5e0bad_original.jpg?ixlib=rb-2.1.0&amp;crop=faces&amp;w=560&amp;h=315&amp;fit=crop&amp;v=1563493272&amp;auto=format&amp;frame=1&amp;q=92&amp;s=47dcec7503d0bcfd20ea2b523cf17a17\",\"ed\":\"https://ksr-ugc.imgix.net/assets/025/855/992/1c00ede28eba30818fd7f52d1e5e0bad_original.jpg?ixlib=rb-2.1.0&amp;crop=faces&amp;w=352&amp;h=198&amp;fit=crop&amp;v=1563493272&amp;auto=format&amp;frame=1&amp;q=92&amp;s=231e9ab9513994b8214bc201fa2b9a63\",\"med\":\"https://ksr-ugc.imgix.net/assets/025/855/992/1c00ede28eba30818fd7f52d1e5e0bad_original.jpg?ixlib=rb-2.1.0&amp;crop=faces&amp;w=272&amp;h=153&amp;fit=crop&amp;v=1563493272&amp;auto=format&amp;frame=1&amp;q=92&amp;s=e1bd038ff18162a3dbdf0e1bc52299b9\",\"little\":\"https://ksr-ugc.imgix.net/assets/025/855/992/1c00ede28eba30818fd7f52d1e5e0bad_original.jpg?ixlib=rb-2.1.0&amp;crop=faces&amp;w=208&amp;h=117&amp;fit=crop&amp;v=1563493272&amp;auto=format&amp;frame=1&amp;q=92&amp;s=928f78277e21573f33431a4fbd37771e\",\"small\":\"https://ksr-ugc.imgix.net/assets/025/855/992/1c00ede28eba30818fd7f52d1e5e0bad_original.jpg?ixlib=rb-2.1.0&amp;crop=faces&amp;w=160&amp;h=90&amp;fit=crop&amp;v=1563493272&amp;auto=format&amp;frame=1&amp;q=92&amp;s=b8c4fe866828742bed86f03e6a361157\",\"thumb\":\"https://ksr-ugc.imgix.net/assets/025/855/992/1c00ede28eba30818fd7f52d1e5e0bad_original.jpg?ixlib=rb-2.1.0&amp;crop=faces&amp;w=48&amp;h=27&amp;fit=crop&amp;v=1563493272&amp;auto=format&amp;frame=1&amp;q=92&amp;s=7e53f8171963394a240ceb952c078d6d\",\"1024x576\":\"https://ksr-ugc.imgix.net/assets/025/855/992/1c00ede28eba30818fd7f52d1e5e0bad_original.jpg?ixlib=rb-2.1.0&amp;crop=faces&amp;w=1024&amp;h=576&amp;fit=crop&amp;v=1563493272&amp;auto=format&amp;frame=1&amp;q=92&amp;s=b33e2aeea349ac59e9825cb0954ba506\",\"1536x864\":\"https://ksr-ugc.imgix.net/assets/025/855/992/1c00ede28eba30818fd7f52d1e5e0bad_original.jpg?ixlib=rb-2.1.0&amp;crop=faces&amp;w=1552&amp;h=873&amp;fit=crop&amp;v=1563493272&amp;auto=format&amp;frame=1&amp;q=92&amp;s=c1449771c3012a07d5f4611904b84b44\"}</td>\n",
              "      <td>12143435.67</td>\n",
              "      <td>{\"id\":3718928,\"project_id\":3718928,\"state\":\"active\",\"state_changed_at\":1563558922,\"name\":\"Travel Tripod by Peak Design\",\"blurb\":\"A full-featured tripod in a truly portable form.\",\"background_color\":\"\",\"text_color\":\"\",\"link_background_color\":\"ff0027\",\"link_text_color\":\"\",\"link_text\":\"Pre-Order\",\"link_url\":\"https://www.peakdesign.com/products/travel-tripod\",\"show_feature_image\":false,\"background_image_opacity\":0.8,\"should_show_feature_image_section\":true,\"feature_image_attributes\":{\"image_urls\":{\"default\":\"https://ksr-ugc.imgix.net/assets/025/855/992/1c00ede28eba30818fd7f52d1e5e0bad_original.jpg?ixlib=rb-2.1.0&amp;crop=faces&amp;w=1552&amp;h=873&amp;fit=crop&amp;v=1563493272&amp;auto=format&amp;frame=1&amp;q=92&amp;s=c1449771c3012a07d5f4611904b84b44\",\"baseball_card\":\"https://ksr-ugc.imgix.net/assets/025/855/992/1c00ede28eba30818fd7f52d1e5e0bad_original.jpg?ixlib=rb-2.1.0&amp;crop=faces&amp;w=560&amp;h=315&amp;fit=crop&amp;v=1563493272&amp;auto=format&amp;frame=1&amp;q=92&amp;s=47dcec7503d0bcfd20ea2b523cf17a17\"}}}</td>\n",
              "      <td>travel-tripod-by-peak-design</td>\n",
              "      <td>https://www.kickstarter.com/discover/categories/design/product%20design</td>\n",
              "      <td>True</td>\n",
              "      <td>True</td>\n",
              "      <td>successful</td>\n",
              "      <td>1563494400</td>\n",
              "      <td>1.0</td>\n",
              "      <td>{\"web\":{\"project\":\"https://www.kickstarter.com/projects/peak-design/travel-tripod-by-peak-design?ref=discovery_category_newest\",\"rewards\":\"https://www.kickstarter.com/projects/peak-design/travel-tripod-by-peak-design/rewards\"}}</td>\n",
              "      <td>12143435.67</td>\n",
              "      <td>domestic</td>\n",
              "      <td>2019-07-19</td>\n",
              "      <td>2019-04-26</td>\n",
              "      <td>2019-05-22</td>\n",
              "      <td>58.0</td>\n",
              "      <td>26.0</td>\n",
              "      <td>84.0</td>\n",
              "      <td>2019</td>\n",
              "      <td>5</td>\n",
              "      <td>22</td>\n",
              "      <td>True</td>\n",
              "      <td>48.0</td>\n",
              "      <td>Peak Design</td>\n",
              "      <td>97103764</td>\n",
              "      <td>Product Design</td>\n",
              "      <td>design</td>\n",
              "      <td>https://www.kickstarter.com/projects/peak-design/travel-tripod-by-peak-design?ref=discovery_category_newest</td>\n",
              "      <td>San Francisco</td>\n",
              "      <td>CA</td>\n",
              "      <td>500000.0</td>\n",
              "      <td>8620.689655</td>\n",
              "      <td>False</td>\n",
              "      <td>en</td>\n",
              "      <td>24.286871</td>\n",
              "      <td>0.000000</td>\n",
              "      <td>0.000000</td>\n",
              "      <td>peak</td>\n",
              "      <td>False</td>\n",
              "      <td>[]</td>\n",
              "      <td>[]</td>\n",
              "      <td>Organisation</td>\n",
              "      <td>(1000000, 100000000]</td>\n",
              "    </tr>\n",
              "    <tr>\n",
              "      <th>51008</th>\n",
              "      <td>88887</td>\n",
              "      <td>Critical Role's The Legend of Vox Machina reunites your favorite heroes for a professional-quality animated special!</td>\n",
              "      <td>{\"id\":29,\"name\":\"Animation\",\"slug\":\"film &amp; video/animation\",\"position\":2,\"parent_id\":11,\"color\":16734574,\"urls\":{\"web\":{\"discover\":\"http://www.kickstarter.com/discover/categories/film%20&amp;%20video/animation\"}}}</td>\n",
              "      <td>11385449</td>\n",
              "      <td>US</td>\n",
              "      <td>the United States</td>\n",
              "      <td>1549660952</td>\n",
              "      <td>{\"id\":1007835190,\"name\":\"Critical Role\",\"slug\":\"criticalrole\",\"is_registered\":null,\"chosen_currency\":null,\"is_superbacker\":null,\"avatar\":{\"thumb\":\"https://ksr-ugc.imgix.net/assets/024/180/816/469a660f9552681e9c75621113877dcf_original.png?ixlib=rb-2.1.0&amp;w=40&amp;h=40&amp;fit=crop&amp;v=1550869205&amp;auto=format&amp;frame=1&amp;q=92&amp;s=2216cdd319417bc3d2b8ee1a40b4f388\",\"small\":\"https://ksr-ugc.imgix.net/assets/024/180/816/469a660f9552681e9c75621113877dcf_original.png?ixlib=rb-2.1.0&amp;w=160&amp;h=160&amp;fit=crop&amp;v=1550869205&amp;auto=format&amp;frame=1&amp;q=92&amp;s=9a29de03ffd7da75de65f4abb0deeda3\",\"medium\":\"https://ksr-ugc.imgix.net/assets/024/180/816/469a660f9552681e9c75621113877dcf_original.png?ixlib=rb-2.1.0&amp;w=160&amp;h=160&amp;fit=crop&amp;v=1550869205&amp;auto=format&amp;frame=1&amp;q=92&amp;s=9a29de03ffd7da75de65f4abb0deeda3\"},\"urls\":{\"web\":{\"user\":\"https://www.kickstarter.com/profile/criticalrole\"},\"api\":{\"user\":\"https://api.kickstarter.com/v1/users/1007835190?signature=1576213243.c83cbe2d8b3720a739688d9d9df4f57070f4cab1\"}}}</td>\n",
              "      <td>USD</td>\n",
              "      <td>$</td>\n",
              "      <td>True</td>\n",
              "      <td>USD</td>\n",
              "      <td>1555657140</td>\n",
              "      <td>False</td>\n",
              "      <td>NaN</td>\n",
              "      <td>1.0</td>\n",
              "      <td>750000.0</td>\n",
              "      <td>597041739</td>\n",
              "      <td>NaN</td>\n",
              "      <td>False</td>\n",
              "      <td>NaN</td>\n",
              "      <td>1551722069</td>\n",
              "      <td>{\"id\":2442047,\"name\":\"Los Angeles\",\"slug\":\"los-angeles-ca\",\"short_name\":\"Los Angeles, CA\",\"displayable_name\":\"Los Angeles, CA\",\"localized_name\":\"Los Angeles\",\"country\":\"US\",\"state\":\"CA\",\"type\":\"Town\",\"is_root\":false,\"expanded_country\":\"United States\",\"urls\":{\"web\":{\"discover\":\"https://www.kickstarter.com/discover/places/los-angeles-ca\",\"location\":\"https://www.kickstarter.com/locations/los-angeles-ca\"},\"api\":{\"nearby_projects\":\"https://api.kickstarter.com/v1/discover?signature=1576191121.702dee0c6a5ce992e23a514cace4622234f7ce31&amp;woe_id=2442047\"}}}</td>\n",
              "      <td>Critical Role: The Legend of Vox Machina Animated Special</td>\n",
              "      <td>NaN</td>\n",
              "      <td>{\"key\":\"assets/024/180/681/20b0b3846c5175714b0cf75822d46e00_original.jpg\",\"full\":\"https://ksr-ugc.imgix.net/assets/024/180/681/20b0b3846c5175714b0cf75822d46e00_original.jpg?ixlib=rb-2.1.0&amp;crop=faces&amp;w=560&amp;h=315&amp;fit=crop&amp;v=1550868442&amp;auto=format&amp;frame=1&amp;q=92&amp;s=7994547ee97e22dd1ac21d2902f1c1f5\",\"ed\":\"https://ksr-ugc.imgix.net/assets/024/180/681/20b0b3846c5175714b0cf75822d46e00_original.jpg?ixlib=rb-2.1.0&amp;crop=faces&amp;w=352&amp;h=198&amp;fit=crop&amp;v=1550868442&amp;auto=format&amp;frame=1&amp;q=92&amp;s=e98b7dcd5966e920d7017c59c815c83a\",\"med\":\"https://ksr-ugc.imgix.net/assets/024/180/681/20b0b3846c5175714b0cf75822d46e00_original.jpg?ixlib=rb-2.1.0&amp;crop=faces&amp;w=272&amp;h=153&amp;fit=crop&amp;v=1550868442&amp;auto=format&amp;frame=1&amp;q=92&amp;s=471a199ea020b8ac80e3b97516afa2fd\",\"little\":\"https://ksr-ugc.imgix.net/assets/024/180/681/20b0b3846c5175714b0cf75822d46e00_original.jpg?ixlib=rb-2.1.0&amp;crop=faces&amp;w=208&amp;h=117&amp;fit=crop&amp;v=1550868442&amp;auto=format&amp;frame=1&amp;q=92&amp;s=da16d921f38fcdb95c09c595da81cdcf\",\"small\":\"https://ksr-ugc.imgix.net/assets/024/180/681/20b0b3846c5175714b0cf75822d46e00_original.jpg?ixlib=rb-2.1.0&amp;crop=faces&amp;w=160&amp;h=90&amp;fit=crop&amp;v=1550868442&amp;auto=format&amp;frame=1&amp;q=92&amp;s=ae0a5e9e1fe8a197e532f0ab0d0a7cf3\",\"thumb\":\"https://ksr-ugc.imgix.net/assets/024/180/681/20b0b3846c5175714b0cf75822d46e00_original.jpg?ixlib=rb-2.1.0&amp;crop=faces&amp;w=48&amp;h=27&amp;fit=crop&amp;v=1550868442&amp;auto=format&amp;frame=1&amp;q=92&amp;s=2293acc13d63eb8e6997c425f97bccb0\",\"1024x576\":\"https://ksr-ugc.imgix.net/assets/024/180/681/20b0b3846c5175714b0cf75822d46e00_original.jpg?ixlib=rb-2.1.0&amp;crop=faces&amp;w=1024&amp;h=576&amp;fit=crop&amp;v=1550868442&amp;auto=format&amp;frame=1&amp;q=92&amp;s=fa785e18bcedde898c04225b644c37fe\",\"1536x864\":\"https://ksr-ugc.imgix.net/assets/024/180/681/20b0b3846c5175714b0cf75822d46e00_original.jpg?ixlib=rb-2.1.0&amp;crop=faces&amp;w=1552&amp;h=873&amp;fit=crop&amp;v=1550868442&amp;auto=format&amp;frame=1&amp;q=92&amp;s=70491da5dbacc53d43cd232ea7f21033\"}</td>\n",
              "      <td>11385449.05</td>\n",
              "      <td>{\"id\":3665306,\"project_id\":3665306,\"state\":\"inactive\",\"state_changed_at\":1549660952,\"name\":null,\"blurb\":null,\"background_color\":null,\"text_color\":null,\"link_background_color\":null,\"link_text_color\":null,\"link_text\":null,\"link_url\":null,\"show_feature_image\":false,\"background_image_opacity\":0.8,\"should_show_feature_image_section\":true,\"feature_image_attributes\":{\"image_urls\":{\"default\":\"https://ksr-ugc.imgix.net/assets/024/180/681/20b0b3846c5175714b0cf75822d46e00_original.jpg?ixlib=rb-2.1.0&amp;crop=faces&amp;w=1552&amp;h=873&amp;fit=crop&amp;v=1550868442&amp;auto=format&amp;frame=1&amp;q=92&amp;s=70491da5dbacc53d43cd232ea7f21033\",\"baseball_card\":\"https://ksr-ugc.imgix.net/assets/024/180/681/20b0b3846c5175714b0cf75822d46e00_original.jpg?ixlib=rb-2.1.0&amp;crop=faces&amp;w=560&amp;h=315&amp;fit=crop&amp;v=1550868442&amp;auto=format&amp;frame=1&amp;q=92&amp;s=7994547ee97e22dd1ac21d2902f1c1f5\"}}}</td>\n",
              "      <td>critical-role-the-legend-of-vox-machina-animated-s</td>\n",
              "      <td>https://www.kickstarter.com/discover/categories/film%20&amp;%20video/animation</td>\n",
              "      <td>True</td>\n",
              "      <td>True</td>\n",
              "      <td>successful</td>\n",
              "      <td>1555657140</td>\n",
              "      <td>1.0</td>\n",
              "      <td>{\"web\":{\"project\":\"https://www.kickstarter.com/projects/criticalrole/critical-role-the-legend-of-vox-machina-animated-s?ref=discovery_category_newest\",\"rewards\":\"https://www.kickstarter.com/projects/criticalrole/critical-role-the-legend-of-vox-machina-animated-s/rewards\"}}</td>\n",
              "      <td>11385449.05</td>\n",
              "      <td>domestic</td>\n",
              "      <td>2019-04-19</td>\n",
              "      <td>2019-02-09</td>\n",
              "      <td>2019-03-05</td>\n",
              "      <td>45.0</td>\n",
              "      <td>24.0</td>\n",
              "      <td>69.0</td>\n",
              "      <td>2019</td>\n",
              "      <td>3</td>\n",
              "      <td>5</td>\n",
              "      <td>True</td>\n",
              "      <td>116.0</td>\n",
              "      <td>Critical Role</td>\n",
              "      <td>1007835190</td>\n",
              "      <td>Animation</td>\n",
              "      <td>film &amp; video</td>\n",
              "      <td>https://www.kickstarter.com/projects/criticalrole/critical-role-the-legend-of-vox-machina-animated-s?ref=discovery_category_newest</td>\n",
              "      <td>Los Angeles</td>\n",
              "      <td>CA</td>\n",
              "      <td>750000.0</td>\n",
              "      <td>16666.666667</td>\n",
              "      <td>False</td>\n",
              "      <td>en</td>\n",
              "      <td>15.180599</td>\n",
              "      <td>0.315476</td>\n",
              "      <td>0.790476</td>\n",
              "      <td>critical</td>\n",
              "      <td>False</td>\n",
              "      <td>[]</td>\n",
              "      <td>[]</td>\n",
              "      <td>Organisation</td>\n",
              "      <td>(1000000, 100000000]</td>\n",
              "    </tr>\n",
              "    <tr>\n",
              "      <th>85701</th>\n",
              "      <td>63416</td>\n",
              "      <td>Cracking open the last closed platform: the TV.  A beautiful, affordable console -- built on Android, by the creator of Jambox.</td>\n",
              "      <td>{\"id\":270,\"name\":\"Gaming Hardware\",\"slug\":\"games/gaming hardware\",\"position\":1,\"parent_id\":12,\"color\":51627,\"urls\":{\"web\":{\"discover\":\"http://www.kickstarter.com/discover/categories/games/gaming%20hardware\"}}}</td>\n",
              "      <td>8596474</td>\n",
              "      <td>US</td>\n",
              "      <td>the United States</td>\n",
              "      <td>1337044803</td>\n",
              "      <td>{\"id\":33844207,\"name\":\"OUYA\",\"slug\":\"ouya\",\"is_registered\":null,\"chosen_currency\":null,\"is_superbacker\":null,\"avatar\":{\"thumb\":\"https://ksr-ugc.imgix.net/assets/006/554/705/45628d9ac66fe529468969f70a76792d_original.jpg?ixlib=rb-2.1.0&amp;w=40&amp;h=40&amp;fit=crop&amp;v=1461395586&amp;auto=format&amp;frame=1&amp;q=92&amp;s=ac05fe0a15dec46d916b3d8aaa8709a5\",\"small\":\"https://ksr-ugc.imgix.net/assets/006/554/705/45628d9ac66fe529468969f70a76792d_original.jpg?ixlib=rb-2.1.0&amp;w=160&amp;h=160&amp;fit=crop&amp;v=1461395586&amp;auto=format&amp;frame=1&amp;q=92&amp;s=c03409d72ab058b2f66772ce0b05c690\",\"medium\":\"https://ksr-ugc.imgix.net/assets/006/554/705/45628d9ac66fe529468969f70a76792d_original.jpg?ixlib=rb-2.1.0&amp;w=160&amp;h=160&amp;fit=crop&amp;v=1461395586&amp;auto=format&amp;frame=1&amp;q=92&amp;s=c03409d72ab058b2f66772ce0b05c690\"},\"urls\":{\"web\":{\"user\":\"https://www.kickstarter.com/profile/ouya\"},\"api\":{\"user\":\"https://api.kickstarter.com/v1/users/33844207?signature=1576212708.97fedd5f8d4d252fa1c3102d08cce9f5a4e89e19\"}}}</td>\n",
              "      <td>USD</td>\n",
              "      <td>$</td>\n",
              "      <td>True</td>\n",
              "      <td>USD</td>\n",
              "      <td>1344488400</td>\n",
              "      <td>False</td>\n",
              "      <td>NaN</td>\n",
              "      <td>1.0</td>\n",
              "      <td>950000.0</td>\n",
              "      <td>1033978702</td>\n",
              "      <td>NaN</td>\n",
              "      <td>False</td>\n",
              "      <td>NaN</td>\n",
              "      <td>1341924281</td>\n",
              "      <td>{\"id\":2442047,\"name\":\"Los Angeles\",\"slug\":\"los-angeles-ca\",\"short_name\":\"Los Angeles, CA\",\"displayable_name\":\"Los Angeles, CA\",\"localized_name\":\"Los Angeles\",\"country\":\"US\",\"state\":\"CA\",\"type\":\"Town\",\"is_root\":false,\"expanded_country\":\"United States\",\"urls\":{\"web\":{\"discover\":\"https://www.kickstarter.com/discover/places/los-angeles-ca\",\"location\":\"https://www.kickstarter.com/locations/los-angeles-ca\"},\"api\":{\"nearby_projects\":\"https://api.kickstarter.com/v1/discover?signature=1576191121.702dee0c6a5ce992e23a514cace4622234f7ce31&amp;woe_id=2442047\"}}}</td>\n",
              "      <td>OUYA: A New Kind of Video Game Console</td>\n",
              "      <td>NaN</td>\n",
              "      <td>{\"key\":\"assets/011/364/958/aa5f379413c838d66ce78eee5fae97ce_original.jpg\",\"full\":\"https://ksr-ugc.imgix.net/assets/011/364/958/aa5f379413c838d66ce78eee5fae97ce_original.jpg?ixlib=rb-2.1.0&amp;crop=faces&amp;w=560&amp;h=315&amp;fit=crop&amp;v=1463681578&amp;auto=format&amp;frame=1&amp;q=92&amp;s=f24ff2e36ac520c081d5e8cd82c5fc96\",\"ed\":\"https://ksr-ugc.imgix.net/assets/011/364/958/aa5f379413c838d66ce78eee5fae97ce_original.jpg?ixlib=rb-2.1.0&amp;crop=faces&amp;w=352&amp;h=198&amp;fit=crop&amp;v=1463681578&amp;auto=format&amp;frame=1&amp;q=92&amp;s=360829aaa08407400ebf12104c7b32d9\",\"med\":\"https://ksr-ugc.imgix.net/assets/011/364/958/aa5f379413c838d66ce78eee5fae97ce_original.jpg?ixlib=rb-2.1.0&amp;crop=faces&amp;w=272&amp;h=153&amp;fit=crop&amp;v=1463681578&amp;auto=format&amp;frame=1&amp;q=92&amp;s=29d3eb6fa72297bfbc2f28c2a660e7b0\",\"little\":\"https://ksr-ugc.imgix.net/assets/011/364/958/aa5f379413c838d66ce78eee5fae97ce_original.jpg?ixlib=rb-2.1.0&amp;crop=faces&amp;w=208&amp;h=117&amp;fit=crop&amp;v=1463681578&amp;auto=format&amp;frame=1&amp;q=92&amp;s=f3a2400f9a10c4a6e9f8f987878d6a71\",\"small\":\"https://ksr-ugc.imgix.net/assets/011/364/958/aa5f379413c838d66ce78eee5fae97ce_original.jpg?ixlib=rb-2.1.0&amp;crop=faces&amp;w=160&amp;h=90&amp;fit=crop&amp;v=1463681578&amp;auto=format&amp;frame=1&amp;q=92&amp;s=79946ed10a57faef7e06a05d35e40c09\",\"thumb\":\"https://ksr-ugc.imgix.net/assets/011/364/958/aa5f379413c838d66ce78eee5fae97ce_original.jpg?ixlib=rb-2.1.0&amp;crop=faces&amp;w=48&amp;h=27&amp;fit=crop&amp;v=1463681578&amp;auto=format&amp;frame=1&amp;q=92&amp;s=6e60ebdc016cf85bb1537af6613c1ccb\",\"1024x576\":\"https://ksr-ugc.imgix.net/assets/011/364/958/aa5f379413c838d66ce78eee5fae97ce_original.jpg?ixlib=rb-2.1.0&amp;crop=faces&amp;w=1024&amp;h=576&amp;fit=crop&amp;v=1463681578&amp;auto=format&amp;frame=1&amp;q=92&amp;s=40c9bb59fc30429f50fc07e28d9e00a2\",\"1536x864\":\"https://ksr-ugc.imgix.net/assets/011/364/958/aa5f379413c838d66ce78eee5fae97ce_original.jpg?ixlib=rb-2.1.0&amp;crop=faces&amp;w=1552&amp;h=873&amp;fit=crop&amp;v=1463681578&amp;auto=format&amp;frame=1&amp;q=92&amp;s=885c51a8f42eb8a3f853f9b5b65740d9\"}</td>\n",
              "      <td>8596474.58</td>\n",
              "      <td>{\"id\":188241,\"project_id\":188241,\"state\":\"inactive\",\"state_changed_at\":1425915810,\"name\":null,\"blurb\":null,\"background_color\":null,\"text_color\":null,\"link_background_color\":null,\"link_text_color\":null,\"link_text\":null,\"link_url\":null,\"show_feature_image\":false,\"background_image_opacity\":0.8,\"should_show_feature_image_section\":true,\"feature_image_attributes\":{\"image_urls\":{\"default\":\"https://ksr-ugc.imgix.net/assets/011/364/958/aa5f379413c838d66ce78eee5fae97ce_original.jpg?ixlib=rb-2.1.0&amp;crop=faces&amp;w=1552&amp;h=873&amp;fit=crop&amp;v=1463681578&amp;auto=format&amp;frame=1&amp;q=92&amp;s=885c51a8f42eb8a3f853f9b5b65740d9\",\"baseball_card\":\"https://ksr-ugc.imgix.net/assets/011/364/958/aa5f379413c838d66ce78eee5fae97ce_original.jpg?ixlib=rb-2.1.0&amp;crop=faces&amp;w=560&amp;h=315&amp;fit=crop&amp;v=1463681578&amp;auto=format&amp;frame=1&amp;q=92&amp;s=f24ff2e36ac520c081d5e8cd82c5fc96\"}}}</td>\n",
              "      <td>ouya-a-new-kind-of-video-game-console</td>\n",
              "      <td>https://www.kickstarter.com/discover/categories/games/gaming%20hardware</td>\n",
              "      <td>True</td>\n",
              "      <td>True</td>\n",
              "      <td>successful</td>\n",
              "      <td>1344491772</td>\n",
              "      <td>1.0</td>\n",
              "      <td>{\"web\":{\"project\":\"https://www.kickstarter.com/projects/ouya/ouya-a-new-kind-of-video-game-console?ref=discovery_category_newest\",\"rewards\":\"https://www.kickstarter.com/projects/ouya/ouya-a-new-kind-of-video-game-console/rewards\"}}</td>\n",
              "      <td>8596474.58</td>\n",
              "      <td>domestic</td>\n",
              "      <td>2012-08-09</td>\n",
              "      <td>2012-05-15</td>\n",
              "      <td>2012-07-11</td>\n",
              "      <td>29.0</td>\n",
              "      <td>57.0</td>\n",
              "      <td>86.0</td>\n",
              "      <td>2012</td>\n",
              "      <td>7</td>\n",
              "      <td>11</td>\n",
              "      <td>True</td>\n",
              "      <td>127.0</td>\n",
              "      <td>OUYA</td>\n",
              "      <td>33844207</td>\n",
              "      <td>Gaming Hardware</td>\n",
              "      <td>games</td>\n",
              "      <td>https://www.kickstarter.com/projects/ouya/ouya-a-new-kind-of-video-game-console?ref=discovery_category_newest</td>\n",
              "      <td>Los Angeles</td>\n",
              "      <td>CA</td>\n",
              "      <td>950000.0</td>\n",
              "      <td>32758.620690</td>\n",
              "      <td>False</td>\n",
              "      <td>en</td>\n",
              "      <td>9.048921</td>\n",
              "      <td>0.187500</td>\n",
              "      <td>0.416667</td>\n",
              "      <td>ouya</td>\n",
              "      <td>False</td>\n",
              "      <td>[]</td>\n",
              "      <td>[]</td>\n",
              "      <td>Organisation</td>\n",
              "      <td>(1000000, 100000000]</td>\n",
              "    </tr>\n",
              "    <tr>\n",
              "      <th>5620</th>\n",
              "      <td>7388</td>\n",
              "      <td>Unlock your full creative potential from 3D printing to laser engraving, cutting and CNC carving. Smarter, larger, and more powerful.</td>\n",
              "      <td>{\"id\":331,\"name\":\"3D Printing\",\"slug\":\"technology/3d printing\",\"position\":1,\"parent_id\":16,\"color\":6526716,\"urls\":{\"web\":{\"discover\":\"http://www.kickstarter.com/discover/categories/technology/3d%20printing\"}}}</td>\n",
              "      <td>7850866</td>\n",
              "      <td>US</td>\n",
              "      <td>the United States</td>\n",
              "      <td>1556088983</td>\n",
              "      <td>{\"id\":1279409520,\"name\":\"Snapmaker\",\"slug\":\"snapmaker\",\"is_registered\":null,\"chosen_currency\":null,\"is_superbacker\":null,\"avatar\":{\"thumb\":\"https://ksr-ugc.imgix.net/assets/015/488/735/b745f47c5036290a98dda452b346c845_original.png?ixlib=rb-2.1.0&amp;w=40&amp;h=40&amp;fit=crop&amp;v=1503718213&amp;auto=format&amp;frame=1&amp;q=92&amp;s=2d93966d8799fb8717cf56361304e42f\",\"small\":\"https://ksr-ugc.imgix.net/assets/015/488/735/b745f47c5036290a98dda452b346c845_original.png?ixlib=rb-2.1.0&amp;w=160&amp;h=160&amp;fit=crop&amp;v=1503718213&amp;auto=format&amp;frame=1&amp;q=92&amp;s=90f392e0f218b3c2e499f4380c604dff\",\"medium\":\"https://ksr-ugc.imgix.net/assets/015/488/735/b745f47c5036290a98dda452b346c845_original.png?ixlib=rb-2.1.0&amp;w=160&amp;h=160&amp;fit=crop&amp;v=1503718213&amp;auto=format&amp;frame=1&amp;q=92&amp;s=90f392e0f218b3c2e499f4380c604dff\"},\"urls\":{\"web\":{\"user\":\"https://www.kickstarter.com/profile/snapmaker\"},\"api\":{\"user\":\"https://api.kickstarter.com/v1/users/1279409520?signature=1576211205.b5972fb4e894a4d0b8a0b724bdc673c5507b625c\"}}}</td>\n",
              "      <td>USD</td>\n",
              "      <td>$</td>\n",
              "      <td>True</td>\n",
              "      <td>USD</td>\n",
              "      <td>1559829638</td>\n",
              "      <td>False</td>\n",
              "      <td>NaN</td>\n",
              "      <td>1.0</td>\n",
              "      <td>100000.0</td>\n",
              "      <td>604109210</td>\n",
              "      <td>NaN</td>\n",
              "      <td>False</td>\n",
              "      <td>NaN</td>\n",
              "      <td>1557237638</td>\n",
              "      <td>{\"id\":2458152,\"name\":\"New Castle\",\"slug\":\"new-castle-de\",\"short_name\":\"New Castle, DE\",\"displayable_name\":\"New Castle, DE\",\"localized_name\":\"New Castle\",\"country\":\"US\",\"state\":\"DE\",\"type\":\"Town\",\"is_root\":false,\"expanded_country\":\"United States\",\"urls\":{\"web\":{\"discover\":\"https://www.kickstarter.com/discover/places/new-castle-de\",\"location\":\"https://www.kickstarter.com/locations/new-castle-de\"},\"api\":{\"nearby_projects\":\"https://api.kickstarter.com/v1/discover?signature=1576191134.0a5141a801720dced1c71cc7a81a329806ed5168&amp;woe_id=2458152\"}}}</td>\n",
              "      <td>Snapmaker 2.0: Modular 3-in-1 3D Printers</td>\n",
              "      <td>NaN</td>\n",
              "      <td>{\"key\":\"assets/025/086/748/98da70023018da449ffad146670cf0a3_original.png\",\"full\":\"https://ksr-ugc.imgix.net/assets/025/086/748/98da70023018da449ffad146670cf0a3_original.png?ixlib=rb-2.1.0&amp;crop=faces&amp;w=560&amp;h=315&amp;fit=crop&amp;v=1557461192&amp;auto=format&amp;frame=1&amp;q=92&amp;s=6e7a6d35db67fbd2bed6ff1c51f07482\",\"ed\":\"https://ksr-ugc.imgix.net/assets/025/086/748/98da70023018da449ffad146670cf0a3_original.png?ixlib=rb-2.1.0&amp;crop=faces&amp;w=352&amp;h=198&amp;fit=crop&amp;v=1557461192&amp;auto=format&amp;frame=1&amp;q=92&amp;s=9bf4a9c86347a272f4f124277881ceea\",\"med\":\"https://ksr-ugc.imgix.net/assets/025/086/748/98da70023018da449ffad146670cf0a3_original.png?ixlib=rb-2.1.0&amp;crop=faces&amp;w=272&amp;h=153&amp;fit=crop&amp;v=1557461192&amp;auto=format&amp;frame=1&amp;q=92&amp;s=553b833f116a3610c89c118788b305bc\",\"little\":\"https://ksr-ugc.imgix.net/assets/025/086/748/98da70023018da449ffad146670cf0a3_original.png?ixlib=rb-2.1.0&amp;crop=faces&amp;w=208&amp;h=117&amp;fit=crop&amp;v=1557461192&amp;auto=format&amp;frame=1&amp;q=92&amp;s=a9da4a2372b7462dcd151e3d5841b8b6\",\"small\":\"https://ksr-ugc.imgix.net/assets/025/086/748/98da70023018da449ffad146670cf0a3_original.png?ixlib=rb-2.1.0&amp;crop=faces&amp;w=160&amp;h=90&amp;fit=crop&amp;v=1557461192&amp;auto=format&amp;frame=1&amp;q=92&amp;s=c1bffc5344f0406cfb3d9a4075654877\",\"thumb\":\"https://ksr-ugc.imgix.net/assets/025/086/748/98da70023018da449ffad146670cf0a3_original.png?ixlib=rb-2.1.0&amp;crop=faces&amp;w=48&amp;h=27&amp;fit=crop&amp;v=1557461192&amp;auto=format&amp;frame=1&amp;q=92&amp;s=8daf08de4722087cd0e41791fbbdcdf2\",\"1024x576\":\"https://ksr-ugc.imgix.net/assets/025/086/748/98da70023018da449ffad146670cf0a3_original.png?ixlib=rb-2.1.0&amp;crop=faces&amp;w=1024&amp;h=576&amp;fit=crop&amp;v=1557461192&amp;auto=format&amp;frame=1&amp;q=92&amp;s=1815e27e152029685ea31dfb004cedcf\",\"1536x864\":\"https://ksr-ugc.imgix.net/assets/025/086/748/98da70023018da449ffad146670cf0a3_original.png?ixlib=rb-2.1.0&amp;crop=faces&amp;w=1552&amp;h=873&amp;fit=crop&amp;v=1557461192&amp;auto=format&amp;frame=1&amp;q=92&amp;s=bc1bc0a7e2834f7462502bfb8ffaeda4\"}</td>\n",
              "      <td>7850866.96</td>\n",
              "      <td>{\"id\":3717660,\"project_id\":3717660,\"state\":\"active\",\"state_changed_at\":1559831751,\"name\":\"Snapmaker 2.0: Modular 3-in-1 3D Printers\",\"blurb\":\"Unlock your full creative potential from 3D printing to laser engraving, cutting and CNC carving. Smarter, larger, and more powerful.\",\"background_color\":\"\",\"text_color\":\"\",\"link_background_color\":\"08a7e1\",\"link_text_color\":\"\",\"link_text\":\"Preorder Now\",\"link_url\":\"https://shop.snapmaker.com/products/snapmaker-2-0-modular-3-in-1-3d-printers?utm_source=snap2-ks2&amp;utm_medium=ks&amp;utm_campaign=snap2-pre\",\"show_feature_image\":false,\"background_image_opacity\":0.8,\"should_show_feature_image_section\":true,\"feature_image_attributes\":{\"image_urls\":{\"default\":\"https://ksr-ugc.imgix.net/assets/025/086/748/98da70023018da449ffad146670cf0a3_original.png?ixlib=rb-2.1.0&amp;crop=faces&amp;w=1552&amp;h=873&amp;fit=crop&amp;v=1557461192&amp;auto=format&amp;frame=1&amp;q=92&amp;s=bc1bc0a7e2834f7462502bfb8ffaeda4\",\"baseball_card\":\"https://ksr-ugc.imgix.net/assets/025/086/748/98da70023018da449ffad146670cf0a3_original.png?ixlib=rb-2.1.0&amp;crop=faces&amp;w=560&amp;h=315&amp;fit=crop&amp;v=1557461192&amp;auto=format&amp;frame=1&amp;q=92&amp;s=6e7a6d35db67fbd2bed6ff1c51f07482\"}}}</td>\n",
              "      <td>snapmaker-20-modular-3-in-1-3d-printers</td>\n",
              "      <td>https://www.kickstarter.com/discover/categories/technology/3d%20printing</td>\n",
              "      <td>True</td>\n",
              "      <td>True</td>\n",
              "      <td>successful</td>\n",
              "      <td>1559829638</td>\n",
              "      <td>1.0</td>\n",
              "      <td>{\"web\":{\"project\":\"https://www.kickstarter.com/projects/snapmaker/snapmaker-20-modular-3-in-1-3d-printers?ref=discovery_category_newest\",\"rewards\":\"https://www.kickstarter.com/projects/snapmaker/snapmaker-20-modular-3-in-1-3d-printers/rewards\"}}</td>\n",
              "      <td>7850866.96</td>\n",
              "      <td>domestic</td>\n",
              "      <td>2019-06-07</td>\n",
              "      <td>2019-04-24</td>\n",
              "      <td>2019-05-08</td>\n",
              "      <td>30.0</td>\n",
              "      <td>14.0</td>\n",
              "      <td>44.0</td>\n",
              "      <td>2019</td>\n",
              "      <td>5</td>\n",
              "      <td>8</td>\n",
              "      <td>True</td>\n",
              "      <td>133.0</td>\n",
              "      <td>Snapmaker</td>\n",
              "      <td>1279409520</td>\n",
              "      <td>3D Printing</td>\n",
              "      <td>technology</td>\n",
              "      <td>https://www.kickstarter.com/projects/snapmaker/snapmaker-20-modular-3-in-1-3d-printers?ref=discovery_category_newest</td>\n",
              "      <td>New Castle</td>\n",
              "      <td>DE</td>\n",
              "      <td>100000.0</td>\n",
              "      <td>3333.333333</td>\n",
              "      <td>False</td>\n",
              "      <td>en</td>\n",
              "      <td>78.508670</td>\n",
              "      <td>0.150000</td>\n",
              "      <td>0.778571</td>\n",
              "      <td>snapmaker</td>\n",
              "      <td>False</td>\n",
              "      <td>[]</td>\n",
              "      <td>[]</td>\n",
              "      <td>Organisation</td>\n",
              "      <td>(1000000, 100000000]</td>\n",
              "    </tr>\n",
              "    <tr>\n",
              "      <th>24695</th>\n",
              "      <td>69320</td>\n",
              "      <td>Yu Suzuki presents the long awaited third installment in the Shenmue series.</td>\n",
              "      <td>{\"id\":35,\"name\":\"Video Games\",\"slug\":\"games/video games\",\"position\":7,\"parent_id\":12,\"color\":51627,\"urls\":{\"web\":{\"discover\":\"http://www.kickstarter.com/discover/categories/games/video%20games\"}}}</td>\n",
              "      <td>6333295</td>\n",
              "      <td>US</td>\n",
              "      <td>the United States</td>\n",
              "      <td>1433238208</td>\n",
              "      <td>{\"id\":1569150382,\"name\":\"Ys Net\",\"slug\":\"ysnet\",\"is_registered\":null,\"chosen_currency\":null,\"is_superbacker\":null,\"avatar\":{\"thumb\":\"https://ksr-ugc.imgix.net/assets/009/976/664/b9826f2bb75762b3dd3a59fdcce9da54_original.png?ixlib=rb-2.1.0&amp;w=40&amp;h=40&amp;fit=crop&amp;v=1461657025&amp;auto=format&amp;frame=1&amp;q=92&amp;s=d9fefff2a09495e8e5d495b989d56164\",\"small\":\"https://ksr-ugc.imgix.net/assets/009/976/664/b9826f2bb75762b3dd3a59fdcce9da54_original.png?ixlib=rb-2.1.0&amp;w=160&amp;h=160&amp;fit=crop&amp;v=1461657025&amp;auto=format&amp;frame=1&amp;q=92&amp;s=aacc58ff856e6e3692ecfcb5b0945d7a\",\"medium\":\"https://ksr-ugc.imgix.net/assets/009/976/664/b9826f2bb75762b3dd3a59fdcce9da54_original.png?ixlib=rb-2.1.0&amp;w=160&amp;h=160&amp;fit=crop&amp;v=1461657025&amp;auto=format&amp;frame=1&amp;q=92&amp;s=aacc58ff856e6e3692ecfcb5b0945d7a\"},\"urls\":{\"web\":{\"user\":\"https://www.kickstarter.com/profile/ysnet\"},\"api\":{\"user\":\"https://api.kickstarter.com/v1/users/1569150382?signature=1576207943.da937cd89a09c64a9dbfbeb93fefc7959e427251\"}}}</td>\n",
              "      <td>USD</td>\n",
              "      <td>$</td>\n",
              "      <td>True</td>\n",
              "      <td>USD</td>\n",
              "      <td>1437184264</td>\n",
              "      <td>False</td>\n",
              "      <td>NaN</td>\n",
              "      <td>1.0</td>\n",
              "      <td>2000000.0</td>\n",
              "      <td>947809001</td>\n",
              "      <td>NaN</td>\n",
              "      <td>False</td>\n",
              "      <td>NaN</td>\n",
              "      <td>1434419464</td>\n",
              "      <td>{\"id\":1118370,\"name\":\"Tokyo\",\"slug\":\"tokyo-jp\",\"short_name\":\"Tokyo, Japan\",\"displayable_name\":\"Tokyo, Japan\",\"localized_name\":\"Tokyo\",\"country\":\"JP\",\"state\":\"Tokyo Prefecture\",\"type\":\"Town\",\"is_root\":false,\"expanded_country\":\"Japan\",\"urls\":{\"web\":{\"discover\":\"https://www.kickstarter.com/discover/places/tokyo-jp\",\"location\":\"https://www.kickstarter.com/locations/tokyo-jp\"},\"api\":{\"nearby_projects\":\"https://api.kickstarter.com/v1/discover?signature=1576191128.200585ea12d3ac2d11565de2eb51b9e8a42bfc08&amp;woe_id=1118370\"}}}</td>\n",
              "      <td>Shenmue 3</td>\n",
              "      <td>NaN</td>\n",
              "      <td>{\"key\":\"assets/012/155/905/cc709c4441634e62db1d28d44ad6d8a8_original.png\",\"full\":\"https://ksr-ugc.imgix.net/assets/012/155/905/cc709c4441634e62db1d28d44ad6d8a8_original.png?ixlib=rb-2.1.0&amp;crop=faces&amp;w=560&amp;h=315&amp;fit=crop&amp;v=1463738901&amp;auto=format&amp;frame=1&amp;q=92&amp;s=2b672bc0fb6a1475afdcf7f6a62273c5\",\"ed\":\"https://ksr-ugc.imgix.net/assets/012/155/905/cc709c4441634e62db1d28d44ad6d8a8_original.png?ixlib=rb-2.1.0&amp;crop=faces&amp;w=352&amp;h=198&amp;fit=crop&amp;v=1463738901&amp;auto=format&amp;frame=1&amp;q=92&amp;s=11a4771c4dcee6d60ec315458740d21e\",\"med\":\"https://ksr-ugc.imgix.net/assets/012/155/905/cc709c4441634e62db1d28d44ad6d8a8_original.png?ixlib=rb-2.1.0&amp;crop=faces&amp;w=272&amp;h=153&amp;fit=crop&amp;v=1463738901&amp;auto=format&amp;frame=1&amp;q=92&amp;s=6a9e92f843c503012e2dc6a713210940\",\"little\":\"https://ksr-ugc.imgix.net/assets/012/155/905/cc709c4441634e62db1d28d44ad6d8a8_original.png?ixlib=rb-2.1.0&amp;crop=faces&amp;w=208&amp;h=117&amp;fit=crop&amp;v=1463738901&amp;auto=format&amp;frame=1&amp;q=92&amp;s=3ede7ae2b8aaf0b70d0b4436085f3702\",\"small\":\"https://ksr-ugc.imgix.net/assets/012/155/905/cc709c4441634e62db1d28d44ad6d8a8_original.png?ixlib=rb-2.1.0&amp;crop=faces&amp;w=160&amp;h=90&amp;fit=crop&amp;v=1463738901&amp;auto=format&amp;frame=1&amp;q=92&amp;s=33def33e343d6f6981a3b31c79d599d4\",\"thumb\":\"https://ksr-ugc.imgix.net/assets/012/155/905/cc709c4441634e62db1d28d44ad6d8a8_original.png?ixlib=rb-2.1.0&amp;crop=faces&amp;w=48&amp;h=27&amp;fit=crop&amp;v=1463738901&amp;auto=format&amp;frame=1&amp;q=92&amp;s=c6f846f2f4291dcc4448377f80d2d5b0\",\"1024x576\":\"https://ksr-ugc.imgix.net/assets/012/155/905/cc709c4441634e62db1d28d44ad6d8a8_original.png?ixlib=rb-2.1.0&amp;crop=faces&amp;w=1024&amp;h=576&amp;fit=crop&amp;v=1463738901&amp;auto=format&amp;frame=1&amp;q=92&amp;s=8fdbef660b3167ef19790dac41e41bcf\",\"1536x864\":\"https://ksr-ugc.imgix.net/assets/012/155/905/cc709c4441634e62db1d28d44ad6d8a8_original.png?ixlib=rb-2.1.0&amp;crop=faces&amp;w=1552&amp;h=873&amp;fit=crop&amp;v=1463738901&amp;auto=format&amp;frame=1&amp;q=92&amp;s=c1032775e98090e25795e183d411de93\"}</td>\n",
              "      <td>6333295.77</td>\n",
              "      <td>{\"id\":1935067,\"project_id\":1935067,\"state\":\"active\",\"state_changed_at\":1442465554,\"name\":\"Shenmue 3\",\"blurb\":\"Yu Suzuki presents the long awaited third installment in the Shenmue series.\",\"background_color\":\"\",\"text_color\":\"\",\"link_background_color\":\"2bde73\",\"link_text_color\":\"\",\"link_text\":\"PC &amp; PS4 Pre-Orders Here!\",\"link_url\":\"http://shenmue.link/order\",\"show_feature_image\":true,\"background_image_opacity\":0.8,\"feature_image_attributes\":{\"id\":21782469,\"image_urls\":{\"default\":\"https://ksr-ugc.imgix.net/assets/021/782/469/f39161b437eaee0b9f62abac2fd0e25b_original.png?ixlib=rb-2.1.0&amp;w=700&amp;fit=max&amp;v=1530619237&amp;auto=format&amp;frame=1&amp;q=92&amp;s=b96c6382c833d5c78808b34afa63cc62\",\"baseball_card\":\"https://ksr-ugc.imgix.net/assets/021/782/469/f39161b437eaee0b9f62abac2fd0e25b_original.png?ixlib=rb-2.1.0&amp;crop=faces%2Cedges&amp;w=560&amp;h=315&amp;fit=crop&amp;v=1530619237&amp;auto=format&amp;frame=1&amp;q=92&amp;s=647331f67332ac47b0f435e82610a74f\"}},\"should_show_feature_image_section\":true}</td>\n",
              "      <td>shenmue-3</td>\n",
              "      <td>https://www.kickstarter.com/discover/categories/games/video%20games</td>\n",
              "      <td>True</td>\n",
              "      <td>True</td>\n",
              "      <td>successful</td>\n",
              "      <td>1437184264</td>\n",
              "      <td>1.0</td>\n",
              "      <td>{\"web\":{\"project\":\"https://www.kickstarter.com/projects/ysnet/shenmue-3?ref=discovery_category_newest\",\"rewards\":\"https://www.kickstarter.com/projects/ysnet/shenmue-3/rewards\"}}</td>\n",
              "      <td>6333295.77</td>\n",
              "      <td>domestic</td>\n",
              "      <td>2015-07-18</td>\n",
              "      <td>2015-06-02</td>\n",
              "      <td>2015-06-16</td>\n",
              "      <td>32.0</td>\n",
              "      <td>14.0</td>\n",
              "      <td>46.0</td>\n",
              "      <td>2015</td>\n",
              "      <td>6</td>\n",
              "      <td>16</td>\n",
              "      <td>True</td>\n",
              "      <td>76.0</td>\n",
              "      <td>Ys Net</td>\n",
              "      <td>1569150382</td>\n",
              "      <td>Video Games</td>\n",
              "      <td>games</td>\n",
              "      <td>https://www.kickstarter.com/projects/ysnet/shenmue-3?ref=discovery_category_newest</td>\n",
              "      <td>Tokyo</td>\n",
              "      <td>Tokyo Prefecture</td>\n",
              "      <td>2000000.0</td>\n",
              "      <td>62500.000000</td>\n",
              "      <td>False</td>\n",
              "      <td>en</td>\n",
              "      <td>3.166648</td>\n",
              "      <td>-0.025000</td>\n",
              "      <td>0.200000</td>\n",
              "      <td>ys</td>\n",
              "      <td>False</td>\n",
              "      <td>[]</td>\n",
              "      <td>[]</td>\n",
              "      <td>Organisation</td>\n",
              "      <td>(1000000, 100000000]</td>\n",
              "    </tr>\n",
              "  </tbody>\n",
              "</table>\n",
              "</div>"
            ],
            "text/plain": [
              "       backers_count  \\\n",
              "9769   27168           \n",
              "51008  88887           \n",
              "85701  63416           \n",
              "5620   7388            \n",
              "24695  69320           \n",
              "\n",
              "                                                                                                                                       blurb  \\\n",
              "9769   A full-featured tripod in a truly portable form.                                                                                        \n",
              "51008  Critical Role's The Legend of Vox Machina reunites your favorite heroes for a professional-quality animated special!                    \n",
              "85701  Cracking open the last closed platform: the TV.  A beautiful, affordable console -- built on Android, by the creator of Jambox.         \n",
              "5620   Unlock your full creative potential from 3D printing to laser engraving, cutting and CNC carving. Smarter, larger, and more powerful.   \n",
              "24695  Yu Suzuki presents the long awaited third installment in the Shenmue series.                                                            \n",
              "\n",
              "                                                                                                                                                                                                                category  \\\n",
              "9769   {\"id\":28,\"name\":\"Product Design\",\"slug\":\"design/product design\",\"position\":5,\"parent_id\":7,\"color\":2577151,\"urls\":{\"web\":{\"discover\":\"http://www.kickstarter.com/discover/categories/design/product%20design\"}}}    \n",
              "51008  {\"id\":29,\"name\":\"Animation\",\"slug\":\"film & video/animation\",\"position\":2,\"parent_id\":11,\"color\":16734574,\"urls\":{\"web\":{\"discover\":\"http://www.kickstarter.com/discover/categories/film%20&%20video/animation\"}}}   \n",
              "85701  {\"id\":270,\"name\":\"Gaming Hardware\",\"slug\":\"games/gaming hardware\",\"position\":1,\"parent_id\":12,\"color\":51627,\"urls\":{\"web\":{\"discover\":\"http://www.kickstarter.com/discover/categories/games/gaming%20hardware\"}}}   \n",
              "5620   {\"id\":331,\"name\":\"3D Printing\",\"slug\":\"technology/3d printing\",\"position\":1,\"parent_id\":16,\"color\":6526716,\"urls\":{\"web\":{\"discover\":\"http://www.kickstarter.com/discover/categories/technology/3d%20printing\"}}}   \n",
              "24695  {\"id\":35,\"name\":\"Video Games\",\"slug\":\"games/video games\",\"position\":7,\"parent_id\":12,\"color\":51627,\"urls\":{\"web\":{\"discover\":\"http://www.kickstarter.com/discover/categories/games/video%20games\"}}}                \n",
              "\n",
              "       converted_pledged_amount country country_displayable_name  created_at  \\\n",
              "9769   12143435                  US      the United States        1556224168   \n",
              "51008  11385449                  US      the United States        1549660952   \n",
              "85701  8596474                   US      the United States        1337044803   \n",
              "5620   7850866                   US      the United States        1556088983   \n",
              "24695  6333295                   US      the United States        1433238208   \n",
              "\n",
              "                                                                                                                                                                                                                                                                                                                                                                                                                                                                                                                                                                                                                                                                                                                                                                                                                                                                                                                                                                                                          creator  \\\n",
              "9769   {\"id\":97103764,\"name\":\"Peak Design\",\"slug\":\"peak-design\",\"is_registered\":null,\"chosen_currency\":null,\"is_superbacker\":null,\"avatar\":{\"thumb\":\"https://ksr-ugc.imgix.net/assets/006/023/679/e2d8ec5dea004fd1f2bf17c7bb62d525_original.png?ixlib=rb-2.1.0&w=40&h=40&fit=crop&v=1510175320&auto=format&frame=1&q=92&s=81d408e16ce9d63f8b29e0da0de6fe21\",\"small\":\"https://ksr-ugc.imgix.net/assets/006/023/679/e2d8ec5dea004fd1f2bf17c7bb62d525_original.png?ixlib=rb-2.1.0&w=160&h=160&fit=crop&v=1510175320&auto=format&frame=1&q=92&s=e4c92f31aba1875f267533c5d25ae730\",\"medium\":\"https://ksr-ugc.imgix.net/assets/006/023/679/e2d8ec5dea004fd1f2bf17c7bb62d525_original.png?ixlib=rb-2.1.0&w=160&h=160&fit=crop&v=1510175320&auto=format&frame=1&q=92&s=e4c92f31aba1875f267533c5d25ae730\"},\"urls\":{\"web\":{\"user\":\"https://www.kickstarter.com/profile/peak-design\"},\"api\":{\"user\":\"https://api.kickstarter.com/v1/users/97103764?signature=1576211455.6845323629ac5084c2963f95f536cd009f105332\"}}}           \n",
              "51008  {\"id\":1007835190,\"name\":\"Critical Role\",\"slug\":\"criticalrole\",\"is_registered\":null,\"chosen_currency\":null,\"is_superbacker\":null,\"avatar\":{\"thumb\":\"https://ksr-ugc.imgix.net/assets/024/180/816/469a660f9552681e9c75621113877dcf_original.png?ixlib=rb-2.1.0&w=40&h=40&fit=crop&v=1550869205&auto=format&frame=1&q=92&s=2216cdd319417bc3d2b8ee1a40b4f388\",\"small\":\"https://ksr-ugc.imgix.net/assets/024/180/816/469a660f9552681e9c75621113877dcf_original.png?ixlib=rb-2.1.0&w=160&h=160&fit=crop&v=1550869205&auto=format&frame=1&q=92&s=9a29de03ffd7da75de65f4abb0deeda3\",\"medium\":\"https://ksr-ugc.imgix.net/assets/024/180/816/469a660f9552681e9c75621113877dcf_original.png?ixlib=rb-2.1.0&w=160&h=160&fit=crop&v=1550869205&auto=format&frame=1&q=92&s=9a29de03ffd7da75de65f4abb0deeda3\"},\"urls\":{\"web\":{\"user\":\"https://www.kickstarter.com/profile/criticalrole\"},\"api\":{\"user\":\"https://api.kickstarter.com/v1/users/1007835190?signature=1576213243.c83cbe2d8b3720a739688d9d9df4f57070f4cab1\"}}}   \n",
              "85701  {\"id\":33844207,\"name\":\"OUYA\",\"slug\":\"ouya\",\"is_registered\":null,\"chosen_currency\":null,\"is_superbacker\":null,\"avatar\":{\"thumb\":\"https://ksr-ugc.imgix.net/assets/006/554/705/45628d9ac66fe529468969f70a76792d_original.jpg?ixlib=rb-2.1.0&w=40&h=40&fit=crop&v=1461395586&auto=format&frame=1&q=92&s=ac05fe0a15dec46d916b3d8aaa8709a5\",\"small\":\"https://ksr-ugc.imgix.net/assets/006/554/705/45628d9ac66fe529468969f70a76792d_original.jpg?ixlib=rb-2.1.0&w=160&h=160&fit=crop&v=1461395586&auto=format&frame=1&q=92&s=c03409d72ab058b2f66772ce0b05c690\",\"medium\":\"https://ksr-ugc.imgix.net/assets/006/554/705/45628d9ac66fe529468969f70a76792d_original.jpg?ixlib=rb-2.1.0&w=160&h=160&fit=crop&v=1461395586&auto=format&frame=1&q=92&s=c03409d72ab058b2f66772ce0b05c690\"},\"urls\":{\"web\":{\"user\":\"https://www.kickstarter.com/profile/ouya\"},\"api\":{\"user\":\"https://api.kickstarter.com/v1/users/33844207?signature=1576212708.97fedd5f8d4d252fa1c3102d08cce9f5a4e89e19\"}}}                                \n",
              "5620   {\"id\":1279409520,\"name\":\"Snapmaker\",\"slug\":\"snapmaker\",\"is_registered\":null,\"chosen_currency\":null,\"is_superbacker\":null,\"avatar\":{\"thumb\":\"https://ksr-ugc.imgix.net/assets/015/488/735/b745f47c5036290a98dda452b346c845_original.png?ixlib=rb-2.1.0&w=40&h=40&fit=crop&v=1503718213&auto=format&frame=1&q=92&s=2d93966d8799fb8717cf56361304e42f\",\"small\":\"https://ksr-ugc.imgix.net/assets/015/488/735/b745f47c5036290a98dda452b346c845_original.png?ixlib=rb-2.1.0&w=160&h=160&fit=crop&v=1503718213&auto=format&frame=1&q=92&s=90f392e0f218b3c2e499f4380c604dff\",\"medium\":\"https://ksr-ugc.imgix.net/assets/015/488/735/b745f47c5036290a98dda452b346c845_original.png?ixlib=rb-2.1.0&w=160&h=160&fit=crop&v=1503718213&auto=format&frame=1&q=92&s=90f392e0f218b3c2e499f4380c604dff\"},\"urls\":{\"web\":{\"user\":\"https://www.kickstarter.com/profile/snapmaker\"},\"api\":{\"user\":\"https://api.kickstarter.com/v1/users/1279409520?signature=1576211205.b5972fb4e894a4d0b8a0b724bdc673c5507b625c\"}}}             \n",
              "24695  {\"id\":1569150382,\"name\":\"Ys Net\",\"slug\":\"ysnet\",\"is_registered\":null,\"chosen_currency\":null,\"is_superbacker\":null,\"avatar\":{\"thumb\":\"https://ksr-ugc.imgix.net/assets/009/976/664/b9826f2bb75762b3dd3a59fdcce9da54_original.png?ixlib=rb-2.1.0&w=40&h=40&fit=crop&v=1461657025&auto=format&frame=1&q=92&s=d9fefff2a09495e8e5d495b989d56164\",\"small\":\"https://ksr-ugc.imgix.net/assets/009/976/664/b9826f2bb75762b3dd3a59fdcce9da54_original.png?ixlib=rb-2.1.0&w=160&h=160&fit=crop&v=1461657025&auto=format&frame=1&q=92&s=aacc58ff856e6e3692ecfcb5b0945d7a\",\"medium\":\"https://ksr-ugc.imgix.net/assets/009/976/664/b9826f2bb75762b3dd3a59fdcce9da54_original.png?ixlib=rb-2.1.0&w=160&h=160&fit=crop&v=1461657025&auto=format&frame=1&q=92&s=aacc58ff856e6e3692ecfcb5b0945d7a\"},\"urls\":{\"web\":{\"user\":\"https://www.kickstarter.com/profile/ysnet\"},\"api\":{\"user\":\"https://api.kickstarter.com/v1/users/1569150382?signature=1576207943.da937cd89a09c64a9dbfbeb93fefc7959e427251\"}}}                        \n",
              "\n",
              "      currency currency_symbol  currency_trailing_code current_currency  \\\n",
              "9769   USD      $               True                    USD               \n",
              "51008  USD      $               True                    USD               \n",
              "85701  USD      $               True                    USD               \n",
              "5620   USD      $               True                    USD               \n",
              "24695  USD      $               True                    USD               \n",
              "\n",
              "         deadline  disable_communication friends  fx_rate       goal  \\\n",
              "9769   1563494400  False                  NaN     1.0      500000.0    \n",
              "51008  1555657140  False                  NaN     1.0      750000.0    \n",
              "85701  1344488400  False                  NaN     1.0      950000.0    \n",
              "5620   1559829638  False                  NaN     1.0      100000.0    \n",
              "24695  1437184264  False                  NaN     1.0      2000000.0   \n",
              "\n",
              "               id is_backing  is_starrable is_starred  launched_at  \\\n",
              "9769   1289129165  NaN        False         NaN        1558447202    \n",
              "51008  597041739   NaN        False         NaN        1551722069    \n",
              "85701  1033978702  NaN        False         NaN        1341924281    \n",
              "5620   604109210   NaN        False         NaN        1557237638    \n",
              "24695  947809001   NaN        False         NaN        1434419464    \n",
              "\n",
              "                                                                                                                                                                                                                                                                                                                                                                                                                                                                                                                                                                                    location  \\\n",
              "9769   {\"id\":2487956,\"name\":\"San Francisco\",\"slug\":\"san-francisco-ca\",\"short_name\":\"San Francisco, CA\",\"displayable_name\":\"San Francisco, CA\",\"localized_name\":\"San Francisco\",\"country\":\"US\",\"state\":\"CA\",\"type\":\"Town\",\"is_root\":false,\"expanded_country\":\"United States\",\"urls\":{\"web\":{\"discover\":\"https://www.kickstarter.com/discover/places/san-francisco-ca\",\"location\":\"https://www.kickstarter.com/locations/san-francisco-ca\"},\"api\":{\"nearby_projects\":\"https://api.kickstarter.com/v1/discover?signature=1576191125.8bc584e67f5b294cd2cc013d15f1dbf26d89685e&woe_id=2487956\"}}}   \n",
              "51008  {\"id\":2442047,\"name\":\"Los Angeles\",\"slug\":\"los-angeles-ca\",\"short_name\":\"Los Angeles, CA\",\"displayable_name\":\"Los Angeles, CA\",\"localized_name\":\"Los Angeles\",\"country\":\"US\",\"state\":\"CA\",\"type\":\"Town\",\"is_root\":false,\"expanded_country\":\"United States\",\"urls\":{\"web\":{\"discover\":\"https://www.kickstarter.com/discover/places/los-angeles-ca\",\"location\":\"https://www.kickstarter.com/locations/los-angeles-ca\"},\"api\":{\"nearby_projects\":\"https://api.kickstarter.com/v1/discover?signature=1576191121.702dee0c6a5ce992e23a514cace4622234f7ce31&woe_id=2442047\"}}}                 \n",
              "85701  {\"id\":2442047,\"name\":\"Los Angeles\",\"slug\":\"los-angeles-ca\",\"short_name\":\"Los Angeles, CA\",\"displayable_name\":\"Los Angeles, CA\",\"localized_name\":\"Los Angeles\",\"country\":\"US\",\"state\":\"CA\",\"type\":\"Town\",\"is_root\":false,\"expanded_country\":\"United States\",\"urls\":{\"web\":{\"discover\":\"https://www.kickstarter.com/discover/places/los-angeles-ca\",\"location\":\"https://www.kickstarter.com/locations/los-angeles-ca\"},\"api\":{\"nearby_projects\":\"https://api.kickstarter.com/v1/discover?signature=1576191121.702dee0c6a5ce992e23a514cace4622234f7ce31&woe_id=2442047\"}}}                 \n",
              "5620   {\"id\":2458152,\"name\":\"New Castle\",\"slug\":\"new-castle-de\",\"short_name\":\"New Castle, DE\",\"displayable_name\":\"New Castle, DE\",\"localized_name\":\"New Castle\",\"country\":\"US\",\"state\":\"DE\",\"type\":\"Town\",\"is_root\":false,\"expanded_country\":\"United States\",\"urls\":{\"web\":{\"discover\":\"https://www.kickstarter.com/discover/places/new-castle-de\",\"location\":\"https://www.kickstarter.com/locations/new-castle-de\"},\"api\":{\"nearby_projects\":\"https://api.kickstarter.com/v1/discover?signature=1576191134.0a5141a801720dced1c71cc7a81a329806ed5168&woe_id=2458152\"}}}                        \n",
              "24695  {\"id\":1118370,\"name\":\"Tokyo\",\"slug\":\"tokyo-jp\",\"short_name\":\"Tokyo, Japan\",\"displayable_name\":\"Tokyo, Japan\",\"localized_name\":\"Tokyo\",\"country\":\"JP\",\"state\":\"Tokyo Prefecture\",\"type\":\"Town\",\"is_root\":false,\"expanded_country\":\"Japan\",\"urls\":{\"web\":{\"discover\":\"https://www.kickstarter.com/discover/places/tokyo-jp\",\"location\":\"https://www.kickstarter.com/locations/tokyo-jp\"},\"api\":{\"nearby_projects\":\"https://api.kickstarter.com/v1/discover?signature=1576191128.200585ea12d3ac2d11565de2eb51b9e8a42bfc08&woe_id=1118370\"}}}                                               \n",
              "\n",
              "                                                            name permissions  \\\n",
              "9769   Travel Tripod by Peak Design                               NaN          \n",
              "51008  Critical Role: The Legend of Vox Machina Animated Special  NaN          \n",
              "85701  OUYA: A New Kind of Video Game Console                     NaN          \n",
              "5620   Snapmaker 2.0: Modular 3-in-1 3D Printers                  NaN          \n",
              "24695  Shenmue 3                                                  NaN          \n",
              "\n",
              "                                                                                                                                                                                                                                                                                                                                                                                                                                                                                                                                                                                                                                                                                                                                                                                                                                                                                                                                                                                                                                                                                                                                                                                                                                                                                                                                                                                                                                                                                                                                                                                                                                                                                                                                                                                                                                                                                                                    photo  \\\n",
              "9769   {\"key\":\"assets/025/855/992/1c00ede28eba30818fd7f52d1e5e0bad_original.jpg\",\"full\":\"https://ksr-ugc.imgix.net/assets/025/855/992/1c00ede28eba30818fd7f52d1e5e0bad_original.jpg?ixlib=rb-2.1.0&crop=faces&w=560&h=315&fit=crop&v=1563493272&auto=format&frame=1&q=92&s=47dcec7503d0bcfd20ea2b523cf17a17\",\"ed\":\"https://ksr-ugc.imgix.net/assets/025/855/992/1c00ede28eba30818fd7f52d1e5e0bad_original.jpg?ixlib=rb-2.1.0&crop=faces&w=352&h=198&fit=crop&v=1563493272&auto=format&frame=1&q=92&s=231e9ab9513994b8214bc201fa2b9a63\",\"med\":\"https://ksr-ugc.imgix.net/assets/025/855/992/1c00ede28eba30818fd7f52d1e5e0bad_original.jpg?ixlib=rb-2.1.0&crop=faces&w=272&h=153&fit=crop&v=1563493272&auto=format&frame=1&q=92&s=e1bd038ff18162a3dbdf0e1bc52299b9\",\"little\":\"https://ksr-ugc.imgix.net/assets/025/855/992/1c00ede28eba30818fd7f52d1e5e0bad_original.jpg?ixlib=rb-2.1.0&crop=faces&w=208&h=117&fit=crop&v=1563493272&auto=format&frame=1&q=92&s=928f78277e21573f33431a4fbd37771e\",\"small\":\"https://ksr-ugc.imgix.net/assets/025/855/992/1c00ede28eba30818fd7f52d1e5e0bad_original.jpg?ixlib=rb-2.1.0&crop=faces&w=160&h=90&fit=crop&v=1563493272&auto=format&frame=1&q=92&s=b8c4fe866828742bed86f03e6a361157\",\"thumb\":\"https://ksr-ugc.imgix.net/assets/025/855/992/1c00ede28eba30818fd7f52d1e5e0bad_original.jpg?ixlib=rb-2.1.0&crop=faces&w=48&h=27&fit=crop&v=1563493272&auto=format&frame=1&q=92&s=7e53f8171963394a240ceb952c078d6d\",\"1024x576\":\"https://ksr-ugc.imgix.net/assets/025/855/992/1c00ede28eba30818fd7f52d1e5e0bad_original.jpg?ixlib=rb-2.1.0&crop=faces&w=1024&h=576&fit=crop&v=1563493272&auto=format&frame=1&q=92&s=b33e2aeea349ac59e9825cb0954ba506\",\"1536x864\":\"https://ksr-ugc.imgix.net/assets/025/855/992/1c00ede28eba30818fd7f52d1e5e0bad_original.jpg?ixlib=rb-2.1.0&crop=faces&w=1552&h=873&fit=crop&v=1563493272&auto=format&frame=1&q=92&s=c1449771c3012a07d5f4611904b84b44\"}   \n",
              "51008  {\"key\":\"assets/024/180/681/20b0b3846c5175714b0cf75822d46e00_original.jpg\",\"full\":\"https://ksr-ugc.imgix.net/assets/024/180/681/20b0b3846c5175714b0cf75822d46e00_original.jpg?ixlib=rb-2.1.0&crop=faces&w=560&h=315&fit=crop&v=1550868442&auto=format&frame=1&q=92&s=7994547ee97e22dd1ac21d2902f1c1f5\",\"ed\":\"https://ksr-ugc.imgix.net/assets/024/180/681/20b0b3846c5175714b0cf75822d46e00_original.jpg?ixlib=rb-2.1.0&crop=faces&w=352&h=198&fit=crop&v=1550868442&auto=format&frame=1&q=92&s=e98b7dcd5966e920d7017c59c815c83a\",\"med\":\"https://ksr-ugc.imgix.net/assets/024/180/681/20b0b3846c5175714b0cf75822d46e00_original.jpg?ixlib=rb-2.1.0&crop=faces&w=272&h=153&fit=crop&v=1550868442&auto=format&frame=1&q=92&s=471a199ea020b8ac80e3b97516afa2fd\",\"little\":\"https://ksr-ugc.imgix.net/assets/024/180/681/20b0b3846c5175714b0cf75822d46e00_original.jpg?ixlib=rb-2.1.0&crop=faces&w=208&h=117&fit=crop&v=1550868442&auto=format&frame=1&q=92&s=da16d921f38fcdb95c09c595da81cdcf\",\"small\":\"https://ksr-ugc.imgix.net/assets/024/180/681/20b0b3846c5175714b0cf75822d46e00_original.jpg?ixlib=rb-2.1.0&crop=faces&w=160&h=90&fit=crop&v=1550868442&auto=format&frame=1&q=92&s=ae0a5e9e1fe8a197e532f0ab0d0a7cf3\",\"thumb\":\"https://ksr-ugc.imgix.net/assets/024/180/681/20b0b3846c5175714b0cf75822d46e00_original.jpg?ixlib=rb-2.1.0&crop=faces&w=48&h=27&fit=crop&v=1550868442&auto=format&frame=1&q=92&s=2293acc13d63eb8e6997c425f97bccb0\",\"1024x576\":\"https://ksr-ugc.imgix.net/assets/024/180/681/20b0b3846c5175714b0cf75822d46e00_original.jpg?ixlib=rb-2.1.0&crop=faces&w=1024&h=576&fit=crop&v=1550868442&auto=format&frame=1&q=92&s=fa785e18bcedde898c04225b644c37fe\",\"1536x864\":\"https://ksr-ugc.imgix.net/assets/024/180/681/20b0b3846c5175714b0cf75822d46e00_original.jpg?ixlib=rb-2.1.0&crop=faces&w=1552&h=873&fit=crop&v=1550868442&auto=format&frame=1&q=92&s=70491da5dbacc53d43cd232ea7f21033\"}   \n",
              "85701  {\"key\":\"assets/011/364/958/aa5f379413c838d66ce78eee5fae97ce_original.jpg\",\"full\":\"https://ksr-ugc.imgix.net/assets/011/364/958/aa5f379413c838d66ce78eee5fae97ce_original.jpg?ixlib=rb-2.1.0&crop=faces&w=560&h=315&fit=crop&v=1463681578&auto=format&frame=1&q=92&s=f24ff2e36ac520c081d5e8cd82c5fc96\",\"ed\":\"https://ksr-ugc.imgix.net/assets/011/364/958/aa5f379413c838d66ce78eee5fae97ce_original.jpg?ixlib=rb-2.1.0&crop=faces&w=352&h=198&fit=crop&v=1463681578&auto=format&frame=1&q=92&s=360829aaa08407400ebf12104c7b32d9\",\"med\":\"https://ksr-ugc.imgix.net/assets/011/364/958/aa5f379413c838d66ce78eee5fae97ce_original.jpg?ixlib=rb-2.1.0&crop=faces&w=272&h=153&fit=crop&v=1463681578&auto=format&frame=1&q=92&s=29d3eb6fa72297bfbc2f28c2a660e7b0\",\"little\":\"https://ksr-ugc.imgix.net/assets/011/364/958/aa5f379413c838d66ce78eee5fae97ce_original.jpg?ixlib=rb-2.1.0&crop=faces&w=208&h=117&fit=crop&v=1463681578&auto=format&frame=1&q=92&s=f3a2400f9a10c4a6e9f8f987878d6a71\",\"small\":\"https://ksr-ugc.imgix.net/assets/011/364/958/aa5f379413c838d66ce78eee5fae97ce_original.jpg?ixlib=rb-2.1.0&crop=faces&w=160&h=90&fit=crop&v=1463681578&auto=format&frame=1&q=92&s=79946ed10a57faef7e06a05d35e40c09\",\"thumb\":\"https://ksr-ugc.imgix.net/assets/011/364/958/aa5f379413c838d66ce78eee5fae97ce_original.jpg?ixlib=rb-2.1.0&crop=faces&w=48&h=27&fit=crop&v=1463681578&auto=format&frame=1&q=92&s=6e60ebdc016cf85bb1537af6613c1ccb\",\"1024x576\":\"https://ksr-ugc.imgix.net/assets/011/364/958/aa5f379413c838d66ce78eee5fae97ce_original.jpg?ixlib=rb-2.1.0&crop=faces&w=1024&h=576&fit=crop&v=1463681578&auto=format&frame=1&q=92&s=40c9bb59fc30429f50fc07e28d9e00a2\",\"1536x864\":\"https://ksr-ugc.imgix.net/assets/011/364/958/aa5f379413c838d66ce78eee5fae97ce_original.jpg?ixlib=rb-2.1.0&crop=faces&w=1552&h=873&fit=crop&v=1463681578&auto=format&frame=1&q=92&s=885c51a8f42eb8a3f853f9b5b65740d9\"}   \n",
              "5620   {\"key\":\"assets/025/086/748/98da70023018da449ffad146670cf0a3_original.png\",\"full\":\"https://ksr-ugc.imgix.net/assets/025/086/748/98da70023018da449ffad146670cf0a3_original.png?ixlib=rb-2.1.0&crop=faces&w=560&h=315&fit=crop&v=1557461192&auto=format&frame=1&q=92&s=6e7a6d35db67fbd2bed6ff1c51f07482\",\"ed\":\"https://ksr-ugc.imgix.net/assets/025/086/748/98da70023018da449ffad146670cf0a3_original.png?ixlib=rb-2.1.0&crop=faces&w=352&h=198&fit=crop&v=1557461192&auto=format&frame=1&q=92&s=9bf4a9c86347a272f4f124277881ceea\",\"med\":\"https://ksr-ugc.imgix.net/assets/025/086/748/98da70023018da449ffad146670cf0a3_original.png?ixlib=rb-2.1.0&crop=faces&w=272&h=153&fit=crop&v=1557461192&auto=format&frame=1&q=92&s=553b833f116a3610c89c118788b305bc\",\"little\":\"https://ksr-ugc.imgix.net/assets/025/086/748/98da70023018da449ffad146670cf0a3_original.png?ixlib=rb-2.1.0&crop=faces&w=208&h=117&fit=crop&v=1557461192&auto=format&frame=1&q=92&s=a9da4a2372b7462dcd151e3d5841b8b6\",\"small\":\"https://ksr-ugc.imgix.net/assets/025/086/748/98da70023018da449ffad146670cf0a3_original.png?ixlib=rb-2.1.0&crop=faces&w=160&h=90&fit=crop&v=1557461192&auto=format&frame=1&q=92&s=c1bffc5344f0406cfb3d9a4075654877\",\"thumb\":\"https://ksr-ugc.imgix.net/assets/025/086/748/98da70023018da449ffad146670cf0a3_original.png?ixlib=rb-2.1.0&crop=faces&w=48&h=27&fit=crop&v=1557461192&auto=format&frame=1&q=92&s=8daf08de4722087cd0e41791fbbdcdf2\",\"1024x576\":\"https://ksr-ugc.imgix.net/assets/025/086/748/98da70023018da449ffad146670cf0a3_original.png?ixlib=rb-2.1.0&crop=faces&w=1024&h=576&fit=crop&v=1557461192&auto=format&frame=1&q=92&s=1815e27e152029685ea31dfb004cedcf\",\"1536x864\":\"https://ksr-ugc.imgix.net/assets/025/086/748/98da70023018da449ffad146670cf0a3_original.png?ixlib=rb-2.1.0&crop=faces&w=1552&h=873&fit=crop&v=1557461192&auto=format&frame=1&q=92&s=bc1bc0a7e2834f7462502bfb8ffaeda4\"}   \n",
              "24695  {\"key\":\"assets/012/155/905/cc709c4441634e62db1d28d44ad6d8a8_original.png\",\"full\":\"https://ksr-ugc.imgix.net/assets/012/155/905/cc709c4441634e62db1d28d44ad6d8a8_original.png?ixlib=rb-2.1.0&crop=faces&w=560&h=315&fit=crop&v=1463738901&auto=format&frame=1&q=92&s=2b672bc0fb6a1475afdcf7f6a62273c5\",\"ed\":\"https://ksr-ugc.imgix.net/assets/012/155/905/cc709c4441634e62db1d28d44ad6d8a8_original.png?ixlib=rb-2.1.0&crop=faces&w=352&h=198&fit=crop&v=1463738901&auto=format&frame=1&q=92&s=11a4771c4dcee6d60ec315458740d21e\",\"med\":\"https://ksr-ugc.imgix.net/assets/012/155/905/cc709c4441634e62db1d28d44ad6d8a8_original.png?ixlib=rb-2.1.0&crop=faces&w=272&h=153&fit=crop&v=1463738901&auto=format&frame=1&q=92&s=6a9e92f843c503012e2dc6a713210940\",\"little\":\"https://ksr-ugc.imgix.net/assets/012/155/905/cc709c4441634e62db1d28d44ad6d8a8_original.png?ixlib=rb-2.1.0&crop=faces&w=208&h=117&fit=crop&v=1463738901&auto=format&frame=1&q=92&s=3ede7ae2b8aaf0b70d0b4436085f3702\",\"small\":\"https://ksr-ugc.imgix.net/assets/012/155/905/cc709c4441634e62db1d28d44ad6d8a8_original.png?ixlib=rb-2.1.0&crop=faces&w=160&h=90&fit=crop&v=1463738901&auto=format&frame=1&q=92&s=33def33e343d6f6981a3b31c79d599d4\",\"thumb\":\"https://ksr-ugc.imgix.net/assets/012/155/905/cc709c4441634e62db1d28d44ad6d8a8_original.png?ixlib=rb-2.1.0&crop=faces&w=48&h=27&fit=crop&v=1463738901&auto=format&frame=1&q=92&s=c6f846f2f4291dcc4448377f80d2d5b0\",\"1024x576\":\"https://ksr-ugc.imgix.net/assets/012/155/905/cc709c4441634e62db1d28d44ad6d8a8_original.png?ixlib=rb-2.1.0&crop=faces&w=1024&h=576&fit=crop&v=1463738901&auto=format&frame=1&q=92&s=8fdbef660b3167ef19790dac41e41bcf\",\"1536x864\":\"https://ksr-ugc.imgix.net/assets/012/155/905/cc709c4441634e62db1d28d44ad6d8a8_original.png?ixlib=rb-2.1.0&crop=faces&w=1552&h=873&fit=crop&v=1463738901&auto=format&frame=1&q=92&s=c1032775e98090e25795e183d411de93\"}   \n",
              "\n",
              "           pledged  \\\n",
              "9769   12143435.67   \n",
              "51008  11385449.05   \n",
              "85701  8596474.58    \n",
              "5620   7850866.96    \n",
              "24695  6333295.77    \n",
              "\n",
              "                                                                                                                                                                                                                                                                                                                                                                                                                                                                                                                                                                                                                                                                                                                                                                                                                                                                                                                                                                                                                                                                                                                                                                                    profile  \\\n",
              "9769   {\"id\":3718928,\"project_id\":3718928,\"state\":\"active\",\"state_changed_at\":1563558922,\"name\":\"Travel Tripod by Peak Design\",\"blurb\":\"A full-featured tripod in a truly portable form.\",\"background_color\":\"\",\"text_color\":\"\",\"link_background_color\":\"ff0027\",\"link_text_color\":\"\",\"link_text\":\"Pre-Order\",\"link_url\":\"https://www.peakdesign.com/products/travel-tripod\",\"show_feature_image\":false,\"background_image_opacity\":0.8,\"should_show_feature_image_section\":true,\"feature_image_attributes\":{\"image_urls\":{\"default\":\"https://ksr-ugc.imgix.net/assets/025/855/992/1c00ede28eba30818fd7f52d1e5e0bad_original.jpg?ixlib=rb-2.1.0&crop=faces&w=1552&h=873&fit=crop&v=1563493272&auto=format&frame=1&q=92&s=c1449771c3012a07d5f4611904b84b44\",\"baseball_card\":\"https://ksr-ugc.imgix.net/assets/025/855/992/1c00ede28eba30818fd7f52d1e5e0bad_original.jpg?ixlib=rb-2.1.0&crop=faces&w=560&h=315&fit=crop&v=1563493272&auto=format&frame=1&q=92&s=47dcec7503d0bcfd20ea2b523cf17a17\"}}}                                                                                                                                                                                             \n",
              "51008  {\"id\":3665306,\"project_id\":3665306,\"state\":\"inactive\",\"state_changed_at\":1549660952,\"name\":null,\"blurb\":null,\"background_color\":null,\"text_color\":null,\"link_background_color\":null,\"link_text_color\":null,\"link_text\":null,\"link_url\":null,\"show_feature_image\":false,\"background_image_opacity\":0.8,\"should_show_feature_image_section\":true,\"feature_image_attributes\":{\"image_urls\":{\"default\":\"https://ksr-ugc.imgix.net/assets/024/180/681/20b0b3846c5175714b0cf75822d46e00_original.jpg?ixlib=rb-2.1.0&crop=faces&w=1552&h=873&fit=crop&v=1550868442&auto=format&frame=1&q=92&s=70491da5dbacc53d43cd232ea7f21033\",\"baseball_card\":\"https://ksr-ugc.imgix.net/assets/024/180/681/20b0b3846c5175714b0cf75822d46e00_original.jpg?ixlib=rb-2.1.0&crop=faces&w=560&h=315&fit=crop&v=1550868442&auto=format&frame=1&q=92&s=7994547ee97e22dd1ac21d2902f1c1f5\"}}}                                                                                                                                                                                                                                                                                                                       \n",
              "85701  {\"id\":188241,\"project_id\":188241,\"state\":\"inactive\",\"state_changed_at\":1425915810,\"name\":null,\"blurb\":null,\"background_color\":null,\"text_color\":null,\"link_background_color\":null,\"link_text_color\":null,\"link_text\":null,\"link_url\":null,\"show_feature_image\":false,\"background_image_opacity\":0.8,\"should_show_feature_image_section\":true,\"feature_image_attributes\":{\"image_urls\":{\"default\":\"https://ksr-ugc.imgix.net/assets/011/364/958/aa5f379413c838d66ce78eee5fae97ce_original.jpg?ixlib=rb-2.1.0&crop=faces&w=1552&h=873&fit=crop&v=1463681578&auto=format&frame=1&q=92&s=885c51a8f42eb8a3f853f9b5b65740d9\",\"baseball_card\":\"https://ksr-ugc.imgix.net/assets/011/364/958/aa5f379413c838d66ce78eee5fae97ce_original.jpg?ixlib=rb-2.1.0&crop=faces&w=560&h=315&fit=crop&v=1463681578&auto=format&frame=1&q=92&s=f24ff2e36ac520c081d5e8cd82c5fc96\"}}}                                                                                                                                                                                                                                                                                                                         \n",
              "5620   {\"id\":3717660,\"project_id\":3717660,\"state\":\"active\",\"state_changed_at\":1559831751,\"name\":\"Snapmaker 2.0: Modular 3-in-1 3D Printers\",\"blurb\":\"Unlock your full creative potential from 3D printing to laser engraving, cutting and CNC carving. Smarter, larger, and more powerful.\",\"background_color\":\"\",\"text_color\":\"\",\"link_background_color\":\"08a7e1\",\"link_text_color\":\"\",\"link_text\":\"Preorder Now\",\"link_url\":\"https://shop.snapmaker.com/products/snapmaker-2-0-modular-3-in-1-3d-printers?utm_source=snap2-ks2&utm_medium=ks&utm_campaign=snap2-pre\",\"show_feature_image\":false,\"background_image_opacity\":0.8,\"should_show_feature_image_section\":true,\"feature_image_attributes\":{\"image_urls\":{\"default\":\"https://ksr-ugc.imgix.net/assets/025/086/748/98da70023018da449ffad146670cf0a3_original.png?ixlib=rb-2.1.0&crop=faces&w=1552&h=873&fit=crop&v=1557461192&auto=format&frame=1&q=92&s=bc1bc0a7e2834f7462502bfb8ffaeda4\",\"baseball_card\":\"https://ksr-ugc.imgix.net/assets/025/086/748/98da70023018da449ffad146670cf0a3_original.png?ixlib=rb-2.1.0&crop=faces&w=560&h=315&fit=crop&v=1557461192&auto=format&frame=1&q=92&s=6e7a6d35db67fbd2bed6ff1c51f07482\"}}}   \n",
              "24695  {\"id\":1935067,\"project_id\":1935067,\"state\":\"active\",\"state_changed_at\":1442465554,\"name\":\"Shenmue 3\",\"blurb\":\"Yu Suzuki presents the long awaited third installment in the Shenmue series.\",\"background_color\":\"\",\"text_color\":\"\",\"link_background_color\":\"2bde73\",\"link_text_color\":\"\",\"link_text\":\"PC & PS4 Pre-Orders Here!\",\"link_url\":\"http://shenmue.link/order\",\"show_feature_image\":true,\"background_image_opacity\":0.8,\"feature_image_attributes\":{\"id\":21782469,\"image_urls\":{\"default\":\"https://ksr-ugc.imgix.net/assets/021/782/469/f39161b437eaee0b9f62abac2fd0e25b_original.png?ixlib=rb-2.1.0&w=700&fit=max&v=1530619237&auto=format&frame=1&q=92&s=b96c6382c833d5c78808b34afa63cc62\",\"baseball_card\":\"https://ksr-ugc.imgix.net/assets/021/782/469/f39161b437eaee0b9f62abac2fd0e25b_original.png?ixlib=rb-2.1.0&crop=faces%2Cedges&w=560&h=315&fit=crop&v=1530619237&auto=format&frame=1&q=92&s=647331f67332ac47b0f435e82610a74f\"}},\"should_show_feature_image_section\":true}                                                                                                                                                                                          \n",
              "\n",
              "                                                     slug  \\\n",
              "9769   travel-tripod-by-peak-design                         \n",
              "51008  critical-role-the-legend-of-vox-machina-animated-s   \n",
              "85701  ouya-a-new-kind-of-video-game-console                \n",
              "5620   snapmaker-20-modular-3-in-1-3d-printers              \n",
              "24695  shenmue-3                                            \n",
              "\n",
              "                                                                       source_url  \\\n",
              "9769   https://www.kickstarter.com/discover/categories/design/product%20design      \n",
              "51008  https://www.kickstarter.com/discover/categories/film%20&%20video/animation   \n",
              "85701  https://www.kickstarter.com/discover/categories/games/gaming%20hardware      \n",
              "5620   https://www.kickstarter.com/discover/categories/technology/3d%20printing     \n",
              "24695  https://www.kickstarter.com/discover/categories/games/video%20games          \n",
              "\n",
              "       spotlight  staff_pick       state  state_changed_at  static_usd_rate  \\\n",
              "9769   True       True        successful  1563494400        1.0               \n",
              "51008  True       True        successful  1555657140        1.0               \n",
              "85701  True       True        successful  1344491772        1.0               \n",
              "5620   True       True        successful  1559829638        1.0               \n",
              "24695  True       True        successful  1437184264        1.0               \n",
              "\n",
              "                                                                                                                                                                                                                                                                                    urls  \\\n",
              "9769   {\"web\":{\"project\":\"https://www.kickstarter.com/projects/peak-design/travel-tripod-by-peak-design?ref=discovery_category_newest\",\"rewards\":\"https://www.kickstarter.com/projects/peak-design/travel-tripod-by-peak-design/rewards\"}}                                                 \n",
              "51008  {\"web\":{\"project\":\"https://www.kickstarter.com/projects/criticalrole/critical-role-the-legend-of-vox-machina-animated-s?ref=discovery_category_newest\",\"rewards\":\"https://www.kickstarter.com/projects/criticalrole/critical-role-the-legend-of-vox-machina-animated-s/rewards\"}}   \n",
              "85701  {\"web\":{\"project\":\"https://www.kickstarter.com/projects/ouya/ouya-a-new-kind-of-video-game-console?ref=discovery_category_newest\",\"rewards\":\"https://www.kickstarter.com/projects/ouya/ouya-a-new-kind-of-video-game-console/rewards\"}}                                             \n",
              "5620   {\"web\":{\"project\":\"https://www.kickstarter.com/projects/snapmaker/snapmaker-20-modular-3-in-1-3d-printers?ref=discovery_category_newest\",\"rewards\":\"https://www.kickstarter.com/projects/snapmaker/snapmaker-20-modular-3-in-1-3d-printers/rewards\"}}                               \n",
              "24695  {\"web\":{\"project\":\"https://www.kickstarter.com/projects/ysnet/shenmue-3?ref=discovery_category_newest\",\"rewards\":\"https://www.kickstarter.com/projects/ysnet/shenmue-3/rewards\"}}                                                                                                   \n",
              "\n",
              "       usd_pledged  usd_type deadline_datetime created_at_datetime  \\\n",
              "9769   12143435.67  domestic 2019-07-19        2019-04-26            \n",
              "51008  11385449.05  domestic 2019-04-19        2019-02-09            \n",
              "85701  8596474.58   domestic 2012-08-09        2012-05-15            \n",
              "5620   7850866.96   domestic 2019-06-07        2019-04-24            \n",
              "24695  6333295.77   domestic 2015-07-18        2015-06-02            \n",
              "\n",
              "      launched_by_datetime  funding_window  creation_window  total_window  \\\n",
              "9769  2019-05-22            58.0            26.0             84.0           \n",
              "51008 2019-03-05            45.0            24.0             69.0           \n",
              "85701 2012-07-11            29.0            57.0             86.0           \n",
              "5620  2019-05-08            30.0            14.0             44.0           \n",
              "24695 2015-06-16            32.0            14.0             46.0           \n",
              "\n",
              "       launched_by_year  launched_by_month  launched_by_day  successful  \\\n",
              "9769   2019              5                  22               True         \n",
              "51008  2019              3                  5                True         \n",
              "85701  2012              7                  11               True         \n",
              "5620   2019              5                  8                True         \n",
              "24695  2015              6                  16               True         \n",
              "\n",
              "       blurb_len   creator_name  creator_id      subcategory main_category  \\\n",
              "9769   48.0       Peak Design    97103764    Product Design   design         \n",
              "51008  116.0      Critical Role  1007835190  Animation        film & video   \n",
              "85701  127.0      OUYA           33844207    Gaming Hardware  games          \n",
              "5620   133.0      Snapmaker      1279409520  3D Printing      technology     \n",
              "24695  76.0       Ys Net         1569150382  Video Games      games          \n",
              "\n",
              "                                                                                                                              project_url  \\\n",
              "9769   https://www.kickstarter.com/projects/peak-design/travel-tripod-by-peak-design?ref=discovery_category_newest                          \n",
              "51008  https://www.kickstarter.com/projects/criticalrole/critical-role-the-legend-of-vox-machina-animated-s?ref=discovery_category_newest   \n",
              "85701  https://www.kickstarter.com/projects/ouya/ouya-a-new-kind-of-video-game-console?ref=discovery_category_newest                        \n",
              "5620   https://www.kickstarter.com/projects/snapmaker/snapmaker-20-modular-3-in-1-3d-printers?ref=discovery_category_newest                 \n",
              "24695  https://www.kickstarter.com/projects/ysnet/shenmue-3?ref=discovery_category_newest                                                   \n",
              "\n",
              "                town            county   goal_usd  funding_rate  duplicate  \\\n",
              "9769   San Francisco  CA                500000.0   8620.689655   False       \n",
              "51008  Los Angeles    CA                750000.0   16666.666667  False       \n",
              "85701  Los Angeles    CA                950000.0   32758.620690  False       \n",
              "5620   New Castle     DE                100000.0   3333.333333   False       \n",
              "24695  Tokyo          Tokyo Prefecture  2000000.0  62500.000000  False       \n",
              "\n",
              "      language_est  perc_target  polarity  subjectivity first_name  \\\n",
              "9769   en           24.286871    0.000000  0.000000      peak        \n",
              "51008  en           15.180599    0.315476  0.790476      critical    \n",
              "85701  en           9.048921     0.187500  0.416667      ouya        \n",
              "5620   en           78.508670    0.150000  0.778571      snapmaker   \n",
              "24695  en           3.166648    -0.025000  0.200000      ys          \n",
              "\n",
              "       creator_individual_name_dataset creator_person_entity  \\\n",
              "9769   False                            []                     \n",
              "51008  False                            []                     \n",
              "85701  False                            []                     \n",
              "5620   False                            []                     \n",
              "24695  False                            []                     \n",
              "\n",
              "      creator_org_entity  creator_type                bucket  \n",
              "9769   []                 Organisation  (1000000, 100000000]  \n",
              "51008  []                 Organisation  (1000000, 100000000]  \n",
              "85701  []                 Organisation  (1000000, 100000000]  \n",
              "5620   []                 Organisation  (1000000, 100000000]  \n",
              "24695  []                 Organisation  (1000000, 100000000]  "
            ]
          },
          "metadata": {
            "tags": []
          },
          "execution_count": 45
        }
      ]
    },
    {
      "cell_type": "markdown",
      "metadata": {
        "id": "sTBOOpZPMqaV",
        "colab_type": "text"
      },
      "source": [
        "## Output"
      ]
    },
    {
      "cell_type": "code",
      "metadata": {
        "id": "FvTWBv38MqaW",
        "colab_type": "code",
        "colab": {}
      },
      "source": [
        "# Copy output to file\n",
        "kickstarter_2019.to_csv(base_dir + \"kickstarter.csv\", index=False)"
      ],
      "execution_count": 0,
      "outputs": []
    },
    {
      "cell_type": "code",
      "metadata": {
        "id": "57Jrj-kI83hq",
        "colab_type": "code",
        "colab": {}
      },
      "source": [
        "kickstarter_2019 = pd.read_csv(base_dir + \"kickstarter.csv\")"
      ],
      "execution_count": 0,
      "outputs": []
    },
    {
      "cell_type": "code",
      "metadata": {
        "id": "8lgMu2v7Mqac",
        "colab_type": "code",
        "colab": {}
      },
      "source": [
        "# Save consolidated set of columns\n",
        "kickstarter_model = kickstarter_2019[['country', 'town', 'county',\n",
        "                                        'main_category', 'subcategory',\n",
        "                                        'funding_window','creation_window','total_window', \n",
        "                                        'launched_by_year', 'launched_by_month', 'launched_by_day',\n",
        "                                        'currency', 'static_usd_rate', 'goal', 'pledged', 'usd_type',\n",
        "                                        'blurb', 'slug', 'blurb_len', 'polarity', 'subjectivity',\n",
        "                                        'creator_type','creator_id', \n",
        "                                        'staff_pick','disable_communication','is_starrable',\n",
        "                                        'usd_pledged','goal_usd', 'funding_rate', #'converted_pledged_amount',\n",
        "                                        'successful', 'perc_target'\n",
        "                                     ]]\n",
        "kickstarter_model.to_csv(base_dir + \"kickstarter_model.csv\", index=False)"
      ],
      "execution_count": 0,
      "outputs": []
    },
    {
      "cell_type": "code",
      "metadata": {
        "id": "WEKf5UYlMqaf",
        "colab_type": "code",
        "outputId": "4453d94d-1b14-479f-c19b-75ed376d14c2",
        "colab": {
          "base_uri": "https://localhost:8080/",
          "height": 317
        }
      },
      "source": [
        "kickstarter_model.describe()"
      ],
      "execution_count": 49,
      "outputs": [
        {
          "output_type": "execute_result",
          "data": {
            "text/html": [
              "<div>\n",
              "<style scoped>\n",
              "    .dataframe tbody tr th:only-of-type {\n",
              "        vertical-align: middle;\n",
              "    }\n",
              "\n",
              "    .dataframe tbody tr th {\n",
              "        vertical-align: top;\n",
              "    }\n",
              "\n",
              "    .dataframe thead th {\n",
              "        text-align: right;\n",
              "    }\n",
              "</style>\n",
              "<table border=\"1\" class=\"dataframe\">\n",
              "  <thead>\n",
              "    <tr style=\"text-align: right;\">\n",
              "      <th></th>\n",
              "      <th>funding_window</th>\n",
              "      <th>creation_window</th>\n",
              "      <th>total_window</th>\n",
              "      <th>launched_by_year</th>\n",
              "      <th>launched_by_month</th>\n",
              "      <th>launched_by_day</th>\n",
              "      <th>static_usd_rate</th>\n",
              "      <th>goal</th>\n",
              "      <th>pledged</th>\n",
              "      <th>blurb_len</th>\n",
              "      <th>polarity</th>\n",
              "      <th>subjectivity</th>\n",
              "      <th>creator_id</th>\n",
              "      <th>usd_pledged</th>\n",
              "      <th>goal_usd</th>\n",
              "      <th>funding_rate</th>\n",
              "      <th>perc_target</th>\n",
              "    </tr>\n",
              "  </thead>\n",
              "  <tbody>\n",
              "    <tr>\n",
              "      <th>count</th>\n",
              "      <td>175200.000000</td>\n",
              "      <td>175200.000000</td>\n",
              "      <td>175200.000000</td>\n",
              "      <td>175200.000000</td>\n",
              "      <td>175200.000000</td>\n",
              "      <td>175200.000000</td>\n",
              "      <td>175200.000000</td>\n",
              "      <td>1.752000e+05</td>\n",
              "      <td>1.752000e+05</td>\n",
              "      <td>175200.000000</td>\n",
              "      <td>175200.000000</td>\n",
              "      <td>175200.000000</td>\n",
              "      <td>1.752000e+05</td>\n",
              "      <td>1.752000e+05</td>\n",
              "      <td>1.752000e+05</td>\n",
              "      <td>1.752000e+05</td>\n",
              "      <td>175200.000000</td>\n",
              "    </tr>\n",
              "    <tr>\n",
              "      <th>mean</th>\n",
              "      <td>32.798042</td>\n",
              "      <td>48.383613</td>\n",
              "      <td>81.181655</td>\n",
              "      <td>2015.797460</td>\n",
              "      <td>6.437123</td>\n",
              "      <td>15.173430</td>\n",
              "      <td>1.018426</td>\n",
              "      <td>5.132430e+04</td>\n",
              "      <td>1.790260e+04</td>\n",
              "      <td>111.364949</td>\n",
              "      <td>0.149797</td>\n",
              "      <td>0.395743</td>\n",
              "      <td>1.073497e+09</td>\n",
              "      <td>1.245215e+04</td>\n",
              "      <td>4.257934e+04</td>\n",
              "      <td>1.398436e+03</td>\n",
              "      <td>5.287172</td>\n",
              "    </tr>\n",
              "    <tr>\n",
              "      <th>std</th>\n",
              "      <td>11.892722</td>\n",
              "      <td>135.115653</td>\n",
              "      <td>135.906784</td>\n",
              "      <td>2.139811</td>\n",
              "      <td>3.283908</td>\n",
              "      <td>8.818716</td>\n",
              "      <td>0.209969</td>\n",
              "      <td>1.259894e+06</td>\n",
              "      <td>4.954591e+05</td>\n",
              "      <td>27.232222</td>\n",
              "      <td>0.255347</td>\n",
              "      <td>0.291377</td>\n",
              "      <td>6.201611e+08</td>\n",
              "      <td>9.465889e+04</td>\n",
              "      <td>1.132555e+06</td>\n",
              "      <td>5.977765e+04</td>\n",
              "      <td>522.031974</td>\n",
              "    </tr>\n",
              "    <tr>\n",
              "      <th>min</th>\n",
              "      <td>1.000000</td>\n",
              "      <td>0.000000</td>\n",
              "      <td>1.000000</td>\n",
              "      <td>2009.000000</td>\n",
              "      <td>1.000000</td>\n",
              "      <td>1.000000</td>\n",
              "      <td>0.008771</td>\n",
              "      <td>1.000000e+00</td>\n",
              "      <td>0.000000e+00</td>\n",
              "      <td>4.000000</td>\n",
              "      <td>-1.000000</td>\n",
              "      <td>0.000000</td>\n",
              "      <td>3.000000e+00</td>\n",
              "      <td>0.000000e+00</td>\n",
              "      <td>5.188108e-01</td>\n",
              "      <td>1.097008e-02</td>\n",
              "      <td>0.000000</td>\n",
              "    </tr>\n",
              "    <tr>\n",
              "      <th>25%</th>\n",
              "      <td>30.000000</td>\n",
              "      <td>3.000000</td>\n",
              "      <td>33.000000</td>\n",
              "      <td>2014.000000</td>\n",
              "      <td>4.000000</td>\n",
              "      <td>8.000000</td>\n",
              "      <td>1.000000</td>\n",
              "      <td>1.500000e+03</td>\n",
              "      <td>8.800000e+01</td>\n",
              "      <td>99.000000</td>\n",
              "      <td>0.000000</td>\n",
              "      <td>0.133333</td>\n",
              "      <td>5.367520e+08</td>\n",
              "      <td>8.600000e+01</td>\n",
              "      <td>1.500000e+03</td>\n",
              "      <td>5.000000e+01</td>\n",
              "      <td>0.015714</td>\n",
              "    </tr>\n",
              "    <tr>\n",
              "      <th>50%</th>\n",
              "      <td>30.000000</td>\n",
              "      <td>11.000000</td>\n",
              "      <td>47.000000</td>\n",
              "      <td>2016.000000</td>\n",
              "      <td>6.000000</td>\n",
              "      <td>15.000000</td>\n",
              "      <td>1.000000</td>\n",
              "      <td>5.000000e+03</td>\n",
              "      <td>1.395000e+03</td>\n",
              "      <td>123.000000</td>\n",
              "      <td>0.100000</td>\n",
              "      <td>0.400000</td>\n",
              "      <td>1.072745e+09</td>\n",
              "      <td>1.402000e+03</td>\n",
              "      <td>5.000000e+03</td>\n",
              "      <td>1.612903e+02</td>\n",
              "      <td>1.003071</td>\n",
              "    </tr>\n",
              "    <tr>\n",
              "      <th>75%</th>\n",
              "      <td>35.000000</td>\n",
              "      <td>37.000000</td>\n",
              "      <td>73.000000</td>\n",
              "      <td>2018.000000</td>\n",
              "      <td>9.000000</td>\n",
              "      <td>23.000000</td>\n",
              "      <td>1.000000</td>\n",
              "      <td>1.500000e+04</td>\n",
              "      <td>6.363000e+03</td>\n",
              "      <td>132.000000</td>\n",
              "      <td>0.300000</td>\n",
              "      <td>0.600000</td>\n",
              "      <td>1.610519e+09</td>\n",
              "      <td>6.280000e+03</td>\n",
              "      <td>1.321770e+04</td>\n",
              "      <td>4.211063e+02</td>\n",
              "      <td>1.287549</td>\n",
              "    </tr>\n",
              "    <tr>\n",
              "      <th>max</th>\n",
              "      <td>97.000000</td>\n",
              "      <td>3303.000000</td>\n",
              "      <td>3333.000000</td>\n",
              "      <td>2019.000000</td>\n",
              "      <td>12.000000</td>\n",
              "      <td>31.000000</td>\n",
              "      <td>1.716408</td>\n",
              "      <td>1.000000e+08</td>\n",
              "      <td>1.469719e+08</td>\n",
              "      <td>151.000000</td>\n",
              "      <td>1.000000</td>\n",
              "      <td>1.000000</td>\n",
              "      <td>2.147483e+09</td>\n",
              "      <td>1.214344e+07</td>\n",
              "      <td>1.313810e+08</td>\n",
              "      <td>1.375000e+07</td>\n",
              "      <td>195650.146249</td>\n",
              "    </tr>\n",
              "  </tbody>\n",
              "</table>\n",
              "</div>"
            ],
            "text/plain": [
              "       funding_window  creation_window   total_window  launched_by_year  \\\n",
              "count  175200.000000   175200.000000    175200.000000  175200.000000      \n",
              "mean   32.798042       48.383613        81.181655      2015.797460        \n",
              "std    11.892722       135.115653       135.906784     2.139811           \n",
              "min    1.000000        0.000000         1.000000       2009.000000        \n",
              "25%    30.000000       3.000000         33.000000      2014.000000        \n",
              "50%    30.000000       11.000000        47.000000      2016.000000        \n",
              "75%    35.000000       37.000000        73.000000      2018.000000        \n",
              "max    97.000000       3303.000000      3333.000000    2019.000000        \n",
              "\n",
              "       launched_by_month  launched_by_day  static_usd_rate          goal  \\\n",
              "count  175200.000000      175200.000000    175200.000000    1.752000e+05   \n",
              "mean   6.437123           15.173430        1.018426         5.132430e+04   \n",
              "std    3.283908           8.818716         0.209969         1.259894e+06   \n",
              "min    1.000000           1.000000         0.008771         1.000000e+00   \n",
              "25%    4.000000           8.000000         1.000000         1.500000e+03   \n",
              "50%    6.000000           15.000000        1.000000         5.000000e+03   \n",
              "75%    9.000000           23.000000        1.000000         1.500000e+04   \n",
              "max    12.000000          31.000000        1.716408         1.000000e+08   \n",
              "\n",
              "            pledged      blurb_len       polarity   subjectivity  \\\n",
              "count  1.752000e+05  175200.000000  175200.000000  175200.000000   \n",
              "mean   1.790260e+04  111.364949     0.149797       0.395743        \n",
              "std    4.954591e+05  27.232222      0.255347       0.291377        \n",
              "min    0.000000e+00  4.000000      -1.000000       0.000000        \n",
              "25%    8.800000e+01  99.000000      0.000000       0.133333        \n",
              "50%    1.395000e+03  123.000000     0.100000       0.400000        \n",
              "75%    6.363000e+03  132.000000     0.300000       0.600000        \n",
              "max    1.469719e+08  151.000000     1.000000       1.000000        \n",
              "\n",
              "         creator_id   usd_pledged      goal_usd  funding_rate    perc_target  \n",
              "count  1.752000e+05  1.752000e+05  1.752000e+05  1.752000e+05  175200.000000  \n",
              "mean   1.073497e+09  1.245215e+04  4.257934e+04  1.398436e+03  5.287172       \n",
              "std    6.201611e+08  9.465889e+04  1.132555e+06  5.977765e+04  522.031974     \n",
              "min    3.000000e+00  0.000000e+00  5.188108e-01  1.097008e-02  0.000000       \n",
              "25%    5.367520e+08  8.600000e+01  1.500000e+03  5.000000e+01  0.015714       \n",
              "50%    1.072745e+09  1.402000e+03  5.000000e+03  1.612903e+02  1.003071       \n",
              "75%    1.610519e+09  6.280000e+03  1.321770e+04  4.211063e+02  1.287549       \n",
              "max    2.147483e+09  1.214344e+07  1.313810e+08  1.375000e+07  195650.146249  "
            ]
          },
          "metadata": {
            "tags": []
          },
          "execution_count": 49
        }
      ]
    },
    {
      "cell_type": "code",
      "metadata": {
        "id": "WWk7VZ0hPo5t",
        "colab_type": "code",
        "colab": {}
      },
      "source": [
        ""
      ],
      "execution_count": 0,
      "outputs": []
    }
  ]
}